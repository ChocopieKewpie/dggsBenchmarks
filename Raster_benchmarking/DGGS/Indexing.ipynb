{
 "cells": [
  {
   "cell_type": "code",
   "execution_count": 1,
   "id": "4669a2a2-2a8c-4df1-8750-d501abfb38ef",
   "metadata": {},
   "outputs": [
    {
     "name": "stderr",
     "output_type": "stream",
     "text": [
      "C:\\Users\\ArdoJ\\AppData\\Roaming\\Python\\Python311\\site-packages\\scipy\\__init__.py:169: UserWarning: A NumPy version >=1.18.5 and <1.26.0 is required for this version of SciPy (detected version 1.26.4\n",
      "  warnings.warn(f\"A NumPy version >={np_minversion} and <{np_maxversion}\"\n",
      "c:\\Users\\ArdoJ\\AppData\\Local\\miniconda3\\envs\\h3panda_exp\\Lib\\site-packages\\geopandas\\_compat.py:123: UserWarning: The Shapely GEOS version (3.11.1-CAPI-1.17.1) is incompatible with the GEOS version PyGEOS was compiled with (3.10.4-CAPI-1.16.2). Conversions between both will be slow.\n",
      "  warnings.warn(\n",
      "C:\\Users\\ArdoJ\\AppData\\Local\\Temp\\ipykernel_13684\\1775464287.py:5: UserWarning: Shapely 2.0 is installed, but because PyGEOS is also installed, GeoPandas will still use PyGEOS by default for now. To force to use and test Shapely 2.0, you have to set the environment variable USE_PYGEOS=0. You can do this before starting the Python process, or in your code before importing geopandas:\n",
      "\n",
      "import os\n",
      "os.environ['USE_PYGEOS'] = '0'\n",
      "import geopandas\n",
      "\n",
      "In a future release, GeoPandas will switch to using Shapely by default. If you are using PyGEOS directly (calling PyGEOS functions on geometries from GeoPandas), this will then stop working and you are encouraged to migrate from PyGEOS to Shapely 2.0 (https://shapely.readthedocs.io/en/latest/migration_pygeos.html).\n",
      "  import geopandas as gpd\n"
     ]
    }
   ],
   "source": [
    "from numba import jit\n",
    "import rasterio\n",
    "from pathlib import Path\n",
    "import numpy as np\n",
    "import geopandas as gpd\n",
    "from shapely.geometry import Point\n",
    "import pandas as pd\n",
    "from concurrent.futures import ThreadPoolExecutor\n",
    "from joblib import Parallel, delayed"
   ]
  },
  {
   "cell_type": "code",
   "execution_count": 4,
   "id": "7a9bf973",
   "metadata": {},
   "outputs": [],
   "source": [
    "def h3_index(gdf):\n",
    "    import h3pandas\n",
    "    h3=gdf.h3.geo_to_h3_aggregate(12, operation='mean')\n",
    "    return h3\n",
    "\n",
    "def process_file(file):\n",
    "    with rasterio.open(file) as src:\n",
    "        array = src.read(1)  # Read the first band\n",
    "        transform = src.transform\n",
    "        crs = src.crs  # Capture the CRS directly from the source\n",
    "\n",
    "    # Generate full grid of coordinates\n",
    "    cols, rows = array.shape\n",
    "    col_indices, row_indices = np.meshgrid(np.arange(cols), np.arange(rows), indexing='xy')\n",
    "    x_coords, y_coords = rasterio.transform.xy(transform, row_indices.flatten(), col_indices.flatten(), offset='center')\n",
    "    \n",
    "    # Flatten the array data to match the flat coordinate arrays\n",
    "    values_flat = array.flatten()\n",
    "    points = np.column_stack((x_coords, y_coords, values_flat))\n",
    "\n",
    "    # Create GeoDataFrame\n",
    "    geometry = [Point(x, y) for x, y, _ in points]\n",
    "    df = gpd.GeoDataFrame(points, columns=['X', 'Y', 'Value'], geometry=geometry)\n",
    "    df=df.drop(columns=['X','Y']).set_crs(2193)\n",
    "    df=df.to_crs(4326)\n",
    "\n",
    "    # H3 \n",
    "    h3 = h3_index(df)\n",
    "    h3.to_parquet(f'{output_dir}/{input_dir}_{file.stem}.parquet')"
   ]
  },
  {
   "cell_type": "code",
   "execution_count": 5,
   "id": "1ee657ca",
   "metadata": {},
   "outputs": [
    {
     "name": "stdout",
     "output_type": "stream",
     "text": [
      "Done continuous!\n",
      "CPU times: total: 2.28 s\n",
      "Wall time: 1min 10s\n"
     ]
    }
   ],
   "source": [
    "%%time\n",
    "input_dir = Path('continuous')\n",
    "output_dir = Path('combined_h3')\n",
    "r_files = list(sorted(input_dir.glob('*.asc')))\n",
    "\n",
    "# Using parallel processing Continuous\n",
    "Parallel(n_jobs=-1)(delayed(process_file)(file) for file in r_files)\n",
    "print('Done continuous!')"
   ]
  },
  {
   "cell_type": "code",
   "execution_count": 6,
   "id": "0ba3e000-070b-4c5e-a98b-1d73f5e6d963",
   "metadata": {},
   "outputs": [
    {
     "name": "stdout",
     "output_type": "stream",
     "text": [
      "Done discrete!\n",
      "CPU times: total: 2.3 s\n",
      "Wall time: 1min 9s\n"
     ]
    }
   ],
   "source": [
    "%%time\n",
    "input_dir = Path('discrete')\n",
    "r_files = list(sorted(input_dir.glob('*.asc')))\n",
    "\n",
    "# Using parallel processing Discrete\n",
    "Parallel(n_jobs=-1)(delayed(process_file)(file) for file in r_files)\n",
    "print('Done discrete!')"
   ]
  }
 ],
 "metadata": {
  "kernelspec": {
   "display_name": "Python 3 (ipykernel)",
   "language": "python",
   "name": "python3"
  },
  "language_info": {
   "codemirror_mode": {
    "name": "ipython",
    "version": 3
   },
   "file_extension": ".py",
   "mimetype": "text/x-python",
   "name": "python",
   "nbconvert_exporter": "python",
   "pygments_lexer": "ipython3",
   "version": "3.11.2"
  }
 },
 "nbformat": 4,
 "nbformat_minor": 5
}
