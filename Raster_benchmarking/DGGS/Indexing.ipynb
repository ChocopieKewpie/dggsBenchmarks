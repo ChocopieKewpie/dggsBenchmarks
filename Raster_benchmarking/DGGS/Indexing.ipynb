{
 "cells": [
  {
   "cell_type": "code",
   "execution_count": 1,
   "id": "4669a2a2-2a8c-4df1-8750-d501abfb38ef",
   "metadata": {},
   "outputs": [],
   "source": [
    "from pathlib import Path\n",
    "import numpy as np\n",
    "import geopandas as gpd\n",
    "import h3pandas\n",
    "from joblib import Parallel, delayed\n",
    "import pandas as pd\n",
    "import rasterio\n",
    "from shapely.geometry import Point\n"
   ]
  },
  {
   "cell_type": "code",
   "execution_count": 9,
   "id": "961e32ee-69d6-4d05-bab3-a2ad60335c27",
   "metadata": {},
   "outputs": [],
   "source": [
    "output_dir = Path('../data/output')\n",
    "output_dir.parents[0].mkdir(parents=True, exist_ok=True)\n",
    "discrete_dir = Path('../data/discrete')\n",
    "continuous_dir = Path('../data/continuous')\n",
    "\n",
    "N = 500 # None to do everything"
   ]
  },
  {
   "cell_type": "code",
   "execution_count": 14,
   "id": "3bef1219-9909-4968-99d3-c9096380dbfe",
   "metadata": {},
   "outputs": [],
   "source": [
    "def h3index_raster(file, output_dir, h3_res=12, stem=None, operation='max'):\n",
    "    import h3pandas # https://github.com/DahnJ/H3-Pandas/issues/27\n",
    "    with rasterio.open(file) as src:\n",
    "        array = src.read(1)\n",
    "        transform = src.transform\n",
    "    array[np.isnan(array)] = 0\n",
    "    height, width = array.shape\n",
    "    cols, rows = np.meshgrid(np.arange(width), np.arange(height), indexing='xy')\n",
    "    xs, ys = rasterio.transform.xy(transform, rows.flatten(), cols.flatten(), offset='center')\n",
    "    dstack = np.dstack((xs, ys))[0]\n",
    "    pts = [Point(*c) for c in dstack]\n",
    "    df = gpd.GeoDataFrame(zip(array.flatten(), pts), columns=['value','geometry'], crs='EPSG:2193')\n",
    "    df = df.to_crs(4326)\n",
    "    df = df.h3.geo_to_h3_aggregate(h3_res, operation=operation, return_geometry=False)\n",
    "    df.to_parquet(f'{output_dir}/{stem or \"\"}_{file.stem}.parquet', index=f'h3_{h3_res}')\n",
    "\n",
    "mode = lambda x: pd.Series.mode(x)[0]"
   ]
  },
  {
   "cell_type": "code",
   "execution_count": 15,
   "id": "3d2d408d-2eeb-4469-aa5d-15349643ed06",
   "metadata": {},
   "outputs": [
    {
     "name": "stdout",
     "output_type": "stream",
     "text": [
      "CPU times: user 168 ms, sys: 12.7 ms, total: 180 ms\n",
      "Wall time: 1.62 s\n"
     ]
    }
   ],
   "source": [
    "%%time\n",
    "\n",
    "N = 10\n",
    "Parallel(n_jobs=-1)(delayed(h3index_raster)(file, output_dir, stem='discrete', operation=mode) for file in list(sorted(discrete_dir.glob('*.asc')))[:N])\n",
    "pass"
   ]
  },
  {
   "cell_type": "code",
   "execution_count": 16,
   "id": "2a72feb0",
   "metadata": {},
   "outputs": [
    {
     "name": "stdout",
     "output_type": "stream",
     "text": [
      "CPU times: user 352 ms, sys: 8.31 ms, total: 360 ms\n",
      "Wall time: 12.2 s\n"
     ]
    }
   ],
   "source": [
    "%%time\n",
    "N = 100\n",
    "Parallel(n_jobs=-1)(delayed(h3index_raster)(file, output_dir, stem='discrete', operation=mode) for file in list(sorted(discrete_dir.glob('*.asc')))[:N])\n",
    "pass"
   ]
  },
  {
   "cell_type": "code",
   "execution_count": 18,
   "id": "70f9424d",
   "metadata": {},
   "outputs": [
    {
     "name": "stdout",
     "output_type": "stream",
     "text": [
      "CPU times: user 2.67 s, sys: 242 ms, total: 2.91 s\n",
      "Wall time: 1min 59s\n"
     ]
    }
   ],
   "source": [
    "%%time\n",
    "N = 1000\n",
    "Parallel(n_jobs=-1)(delayed(h3index_raster)(file, output_dir, stem='discrete', operation=mode) for file in list(sorted(discrete_dir.glob('*.asc')))[:N])\n",
    "pass"
   ]
  },
  {
   "cell_type": "code",
   "execution_count": 7,
   "id": "c68e6db4",
   "metadata": {},
   "outputs": [
    {
     "name": "stdout",
     "output_type": "stream",
     "text": [
      "CPU times: total: 24.2 s\n",
      "Wall time: 7min 29s\n"
     ]
    }
   ],
   "source": [
    "%%time\n",
    "N = 10000\n",
    "Parallel(n_jobs=-1)(delayed(h3index_raster)(file, output_dir, stem='discrete', operation=mode) for file in list(sorted(discrete_dir.glob('*.asc')))[:N])\n",
    "pass"
   ]
  },
  {
   "cell_type": "code",
   "execution_count": 8,
   "id": "0ba3e000-070b-4c5e-a98b-1d73f5e6d963",
   "metadata": {},
   "outputs": [
    {
     "name": "stdout",
     "output_type": "stream",
     "text": [
      "CPU times: total: 15.6 ms\n",
      "Wall time: 401 ms\n"
     ]
    }
   ],
   "source": [
    "%%time\n",
    "N=10\n",
    "Parallel(n_jobs=-1)(delayed(h3index_raster)(file, output_dir, stem='continuous', operation='mean') for file in list(sorted(continuous_dir.glob('*.asc')))[:N])\n",
    "pass"
   ]
  },
  {
   "cell_type": "code",
   "execution_count": 17,
   "id": "8b9b289c",
   "metadata": {},
   "outputs": [
    {
     "name": "stdout",
     "output_type": "stream",
     "text": [
      "CPU times: user 313 ms, sys: 20.5 ms, total: 334 ms\n",
      "Wall time: 4.82 s\n"
     ]
    }
   ],
   "source": [
    "%%time\n",
    "N=100\n",
    "Parallel(n_jobs=-1)(delayed(h3index_raster)(file, output_dir, stem='continuous', operation='mean') for file in list(sorted(continuous_dir.glob('*.asc')))[:N])\n",
    "pass"
   ]
  },
  {
   "cell_type": "code",
   "execution_count": 19,
   "id": "56b37526",
   "metadata": {},
   "outputs": [
    {
     "name": "stdout",
     "output_type": "stream",
     "text": [
      "CPU times: user 2.04 s, sys: 76.8 ms, total: 2.12 s\n",
      "Wall time: 50.7 s\n"
     ]
    }
   ],
   "source": [
    "%%time\n",
    "N=1000\n",
    "Parallel(n_jobs=-1)(delayed(h3index_raster)(file, output_dir, stem='continuous', operation='mean') for file in list(sorted(continuous_dir.glob('*.asc')))[:N])\n",
    "pass"
   ]
  },
  {
   "cell_type": "code",
   "execution_count": 11,
   "id": "ad70495f",
   "metadata": {},
   "outputs": [
    {
     "name": "stdout",
     "output_type": "stream",
     "text": [
      "CPU times: total: 7.91 s\n",
      "Wall time: 3min 27s\n"
     ]
    }
   ],
   "source": [
    "%%time\n",
    "N=10000\n",
    "Parallel(n_jobs=-1)(delayed(h3index_raster)(file, output_dir, stem='continuous', operation='mean') for file in list(sorted(continuous_dir.glob('*.asc')))[:N])\n",
    "pass"
   ]
  },
  {
   "cell_type": "code",
   "execution_count": null,
   "id": "a9c2a4dd",
   "metadata": {},
   "outputs": [],
   "source": []
  }
 ],
 "metadata": {
  "kernelspec": {
   "display_name": "Python 3 (ipykernel)",
   "language": "python",
   "name": "python3"
  },
  "language_info": {
   "codemirror_mode": {
    "name": "ipython",
    "version": 3
   },
   "file_extension": ".py",
   "mimetype": "text/x-python",
   "name": "python",
   "nbconvert_exporter": "python",
   "pygments_lexer": "ipython3",
   "version": "3.12.3"
  }
 },
 "nbformat": 4,
 "nbformat_minor": 5
}
