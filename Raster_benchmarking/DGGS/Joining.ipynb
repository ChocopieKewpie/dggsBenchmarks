{
 "cells": [
  {
   "cell_type": "code",
   "execution_count": 1,
   "id": "a6127309-a496-40f3-b9cc-b0cc0d978807",
   "metadata": {},
   "outputs": [],
   "source": [
    "from itertools import product\n",
    "import numpy as np\n",
    "from pathlib import Path\n",
    "\n",
    "from dask import delayed\n",
    "import dask.dataframe as dd\n",
    "import geopandas as gpd\n",
    "import h3pandas\n",
    "import pandas as pd"
   ]
  },
  {
   "cell_type": "code",
   "execution_count": 2,
   "id": "0695e609-1c0c-43d9-b6d1-f8231e07f4c1",
   "metadata": {},
   "outputs": [],
   "source": [
    "input_dir = Path('../data/output')\n",
    "output_dir = Path('../data/output-joining')\n",
    "\n",
    "d_output = output_dir / 'raster_combined-discrete.gpkg'\n",
    "c_output = output_dir / 'raster_combined-continuous.gpkg'\n",
    "\n",
    "d_files = list(input_dir.glob('discrete*.parquet'))\n",
    "c_files = list(input_dir.glob('continuous*.parquet'))"
   ]
  },
  {
   "cell_type": "code",
   "execution_count": 3,
   "id": "2d983fed-3ffc-4120-832d-38b6b9a04c0c",
   "metadata": {},
   "outputs": [],
   "source": [
    "@np.vectorize\n",
    "def is_prime(n):\n",
    "    if np.isnan(n):\n",
    "        return False\n",
    "    if n % 2 == 0 and n > 2:\n",
    "        return False\n",
    "    return all(n % i for i in range(3, int(np.sqrt(n)) + 1, 2))\n",
    "\n",
    "@np.vectorize\n",
    "def is_polygonal(s, x):\n",
    "    if np.isnan(x):\n",
    "        return 0\n",
    "    assert s > 2 and s % 1 == 0 and x % 1 == 0\n",
    "    n = (np.sqrt(8 * (s - 2) * x + (s - 4) ** 2) + (s - 4)) / (2 * (s - 2))\n",
    "    return n % 1 == 0\n",
    "\n",
    "@np.vectorize\n",
    "def is_fibonacci(n):\n",
    "    a, b = 0,1\n",
    "    while a < n:\n",
    "        a, b = b, a + b\n",
    "    return a == n\n",
    "\n",
    "@np.vectorize\n",
    "def is_perfect(n):\n",
    "    sum = 1\n",
    "    i = 2\n",
    "    while i * i <= n:\n",
    "        if n % i == 0:\n",
    "            sum = sum + i + n/i\n",
    "        i += 1\n",
    "    return sum == n and n != 1\n",
    "\n",
    "def is_triangular(n):\n",
    "    return is_polygonal(3, n)\n",
    "\n",
    "def is_rectangular(n):\n",
    "    return is_polygonal(4, n)\n",
    "\n",
    "def is_pentagonal(n):\n",
    "    return is_polygonal(5, n)\n",
    "\n",
    "def is_hexagonal(n):\n",
    "    return is_polygonal(6, n)\n",
    "\n",
    "funcs = [\n",
    "    is_prime,\n",
    "    is_triangular, is_rectangular, is_pentagonal, is_hexagonal,\n",
    "    is_fibonacci,\n",
    "    is_perfect\n",
    "]\n"
   ]
  },
  {
   "cell_type": "code",
   "execution_count": 8,
   "id": "473e16e6-b0de-441b-a4b4-b03d3f407c4f",
   "metadata": {},
   "outputs": [],
   "source": [
    "N = 10 # None to do all\n",
    "# TODO join performance with larger N is poor, I think there's a better way to do this"
   ]
  },
  {
   "cell_type": "code",
   "execution_count": 16,
   "id": "6dbf4ae7-0c81-4bca-9f0d-64483374a25f",
   "metadata": {},
   "outputs": [
    {
     "name": "stdout",
     "output_type": "stream",
     "text": [
      "CPU times: user 8 µs, sys: 1 µs, total: 9 µs\n",
      "Wall time: 13.1 µs\n"
     ]
    }
   ],
   "source": [
    "%%time\n",
    "def read_and_label(filename):\n",
    "    df = pd.read_parquet(filename)\n",
    "    df = df.rename(columns={\"value\": f\"value-{filename.stem.split('-')[-1]}\"})\n",
    "    return df\n",
    "\n",
    "def join_and_classify(files, scale=1, meta_type='int32'):\n",
    "    dfs = [delayed(read_and_label)(fname) for fname in files[:N]]\n",
    "    ddf = dd.from_delayed(dfs[0].join(dfs[1:]))\n",
    "    # ddf = dd.concat(dd.from_delayed(dfs).compute(), axis='index')\n",
    "    \n",
    "    out_df = pd.DataFrame(index=ddf.index)\n",
    "    func_col_combos = list(product(funcs, ddf.columns))\n",
    "    for func, col in func_col_combos:\n",
    "        out_df[f'{col}.{func.__name__}'] = (ddf[col]*scale).apply(np.floor, meta=(col, meta_type)).apply(func, meta=(col, 'bool')).astype(int).compute()\n",
    "    \n",
    "    sum_cols = [f'{col}.{func.__name__}' for func, col in func_col_combos]\n",
    "    out_df['satisfaction'] = out_df[sum_cols].sum(axis=1)\n",
    "    return out_df.drop(columns=sum_cols)"
   ]
  },
  {
   "cell_type": "code",
   "execution_count": 17,
   "id": "1addbc31-e577-44b7-bc50-0612ac617585",
   "metadata": {},
   "outputs": [
    {
     "name": "stdout",
     "output_type": "stream",
     "text": [
      "CPU times: user 9.75 s, sys: 1.01 s, total: 10.8 s\n",
      "Wall time: 9.44 s\n"
     ]
    }
   ],
   "source": [
    "%%time\n",
    "out_df = join_and_classify(d_files)\n",
    "h3_df = out_df.h3.h3_to_geo_boundary()\n",
    "h3_df.to_file(d_output, driver='GPKG', mode='w')"
   ]
  },
  {
   "cell_type": "code",
   "execution_count": 19,
   "id": "b76a8fb8-1263-4ccc-b3b6-e72659a1fff2",
   "metadata": {},
   "outputs": [
    {
     "name": "stdout",
     "output_type": "stream",
     "text": [
      "CPU times: user 9.89 s, sys: 1.01 s, total: 10.9 s\n",
      "Wall time: 9.52 s\n"
     ]
    }
   ],
   "source": [
    "%%time\n",
    "out_df = join_and_classify(c_files)\n",
    "h3_df = out_df.h3.h3_to_geo_boundary()\n",
    "h3_df.to_file(c_output, driver='GPKG', mode='w', scale=100, meta_type='float32')"
   ]
  }
 ],
 "metadata": {
  "kernelspec": {
   "display_name": "Python 3 (ipykernel)",
   "language": "python",
   "name": "python3"
  },
  "language_info": {
   "codemirror_mode": {
    "name": "ipython",
    "version": 3
   },
   "file_extension": ".py",
   "mimetype": "text/x-python",
   "name": "python",
   "nbconvert_exporter": "python",
   "pygments_lexer": "ipython3",
   "version": "3.12.3"
  }
 },
 "nbformat": 4,
 "nbformat_minor": 5
}
