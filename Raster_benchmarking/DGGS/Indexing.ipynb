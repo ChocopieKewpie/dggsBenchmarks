{
 "cells": [
  {
   "cell_type": "code",
   "execution_count": 1,
   "id": "4669a2a2-2a8c-4df1-8750-d501abfb38ef",
   "metadata": {},
   "outputs": [],
   "source": [
    "from pathlib import Path\n",
    "import numpy as np\n",
    "\n",
    "import geopandas as gpd\n",
    "import h3pandas\n",
    "import pandas as pd\n",
    "import rasterio\n",
    "from shapely.geometry import Point\n"
   ]
  },
  {
   "cell_type": "code",
   "execution_count": 9,
   "id": "961e32ee-69d6-4d05-bab3-a2ad60335c27",
   "metadata": {},
   "outputs": [],
   "source": [
    "output_dir = Path('../data/output')\n",
    "output_dir.parents[0].mkdir(parents=True, exist_ok=True)\n",
    "discrete_dir = Path('../data/discrete')\n",
    "continuous_dir = Path('../data/continuous')"
   ]
  },
  {
   "cell_type": "code",
   "execution_count": 7,
   "id": "3bef1219-9909-4968-99d3-c9096380dbfe",
   "metadata": {},
   "outputs": [],
   "source": [
    "def h3index_raster(file, output_dir, stem=None, operation='max'):\n",
    "    with rasterio.open(file) as src:\n",
    "        array = src.read(1)\n",
    "        transform = src.transform\n",
    "    height, width = array.shape\n",
    "    cols, rows = np.meshgrid(np.arange(width), np.arange(height))\n",
    "    xs, ys = rasterio.transform.xy(src.transform, rows.flatten(), cols.flatten())\n",
    "    dstack = np.dstack((xs, ys))[0]\n",
    "    pts = [Point(*c) for c in dstack]\n",
    "    df_data = zip(pts, array.flatten())\n",
    "    df = gpd.GeoDataFrame(zip(array.flatten(), pts), columns=['value','geometry'], crs='EPSG:2193')\n",
    "    df = df.to_crs(4326)\n",
    "    h3 = df.h3.geo_to_h3_aggregate(7, operation=operation)\n",
    "    h3.to_parquet(f'{(output_dir)}/{stem or ''}_{(file.stem)}.parquet')"
   ]
  },
  {
   "cell_type": "code",
   "execution_count": 10,
   "id": "3d2d408d-2eeb-4469-aa5d-15349643ed06",
   "metadata": {},
   "outputs": [
    {
     "name": "stdout",
     "output_type": "stream",
     "text": [
      "CPU times: user 3.09 s, sys: 49.3 ms, total: 3.14 s\n",
      "Wall time: 3.17 s\n"
     ]
    }
   ],
   "source": [
    "%%time\n",
    "mode = lambda x: pd.Series.mode(x)[0]\n",
    "for file in list(sorted(discrete_dir.glob('*.asc')))[:10]:\n",
    "    h3index_raster(file, output_dir, stem='discrete', operation=mode)"
   ]
  },
  {
   "cell_type": "code",
   "execution_count": 12,
   "id": "0ba3e000-070b-4c5e-a98b-1d73f5e6d963",
   "metadata": {},
   "outputs": [
    {
     "name": "stdout",
     "output_type": "stream",
     "text": [
      "CPU times: user 2.66 s, sys: 31.1 ms, total: 2.69 s\n",
      "Wall time: 2.73 s\n"
     ]
    }
   ],
   "source": [
    "%%time\n",
    "for file in list(sorted(continuous_dir.glob('*.asc')))[:10]:\n",
    "    h3index_raster(file, output_dir, stem='continuous', operation='mean')"
   ]
  }
 ],
 "metadata": {
  "kernelspec": {
   "display_name": "Python 3 (ipykernel)",
   "language": "python",
   "name": "python3"
  },
  "language_info": {
   "codemirror_mode": {
    "name": "ipython",
    "version": 3
   },
   "file_extension": ".py",
   "mimetype": "text/x-python",
   "name": "python",
   "nbconvert_exporter": "python",
   "pygments_lexer": "ipython3",
   "version": "3.12.3"
  }
 },
 "nbformat": 4,
 "nbformat_minor": 5
}
