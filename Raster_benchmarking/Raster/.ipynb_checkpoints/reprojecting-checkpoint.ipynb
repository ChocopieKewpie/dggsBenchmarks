{
 "cells": [
  {
   "cell_type": "code",
   "execution_count": null,
   "metadata": {},
   "outputs": [],
   "source": [
    "import rasterio\n",
    "from rasterio.merge import merge\n",
    "from rasterio.transform import from_origin\n",
    "from rasterio.enums import Resampling\n",
    "from rasterio.warp import calculate_default_transform, reproject\n",
    "\n",
    "from pathlib import Path"
   ]
  },
  {
   "cell_type": "code",
   "execution_count": null,
   "metadata": {},
   "outputs": [],
   "source": [
    "output_dir = Path('combined')"
   ]
  },
  {
   "cell_type": "code",
   "execution_count": null,
   "metadata": {},
   "outputs": [],
   "source": [
    "input_dir = Path('discrete')\n",
    "r_files = list(sorted(input_dir.glob('*.asc')))\n",
    "for file in r_files:\n",
    "    with rasterio.open(file) as src:\n",
    "        dst_crs = 'EPSG:4326'  # Destination CRS\n",
    "        transform, width, height = calculate_default_transform(src.crs, dst_crs, src.width, src.height, *src.bounds)\n",
    "        kwargs = src.meta.copy()\n",
    "        kwargs.update({\n",
    "            'crs': dst_crs,\n",
    "            'transform': transform,\n",
    "            'width': width,\n",
    "            'height': height\n",
    "        })\n",
    "        \n",
    "        # Reproject the raster\n",
    "        reprojected_data = src.read(\n",
    "            out_shape=(src.count, height, width),\n",
    "            resampling=Resampling.nearest,\n",
    "            dst_transform=transform,\n",
    "            dst_crs=dst_crs\n",
    "        )\n",
    "        \n",
    "        reprojected_rasters.append(reprojected_data)\n",
    "        band_datasets.append(kwargs)\n",
    "\n",
    "# Merge reprojected rasters into a single raster with each raster as a band\n",
    "mosaic, out_trans = merge(reprojected_rasters)\n",
    "\n",
    "# Update metadata for the merged raster\n",
    "kwargs = band_datasets[0]  # Use metadata from the first raster\n",
    "kwargs.update({\n",
    "    'transform': out_trans,\n",
    "    'width': mosaic.shape[2],\n",
    "    'height': mosaic.shape[1],\n",
    "    'count': len(reprojected_rasters)  # Number of bands\n",
    "})\n",
    "\n",
    "# Write the merged raster to a new file\n",
    "with rasterio.open('merged_raster.tif', 'w', **kwargs) as dst:\n",
    "    for i, band_data in enumerate(mosaic, 1):\n",
    "        dst.write(band_data, i)  # Write each band to the output raster"
   ]
  }
 ],
 "metadata": {
  "language_info": {
   "name": "python"
  }
 },
 "nbformat": 4,
 "nbformat_minor": 2
}
