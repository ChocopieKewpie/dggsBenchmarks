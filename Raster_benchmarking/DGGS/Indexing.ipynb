{
 "cells": [
  {
   "cell_type": "code",
   "execution_count": 1,
   "id": "4669a2a2-2a8c-4df1-8750-d501abfb38ef",
   "metadata": {},
   "outputs": [],
   "source": [
    "from pathlib import Path\n",
    "import numpy as np\n",
    "\n",
    "import geopandas as gpd\n",
    "import h3pandas\n",
    "from joblib import Parallel, delayed\n",
    "import pandas as pd\n",
    "import rasterio\n",
    "from shapely.geometry import Point\n"
   ]
  },
  {
   "cell_type": "code",
   "execution_count": 2,
   "id": "961e32ee-69d6-4d05-bab3-a2ad60335c27",
   "metadata": {},
   "outputs": [],
   "source": [
    "output_dir = Path('../data/output')\n",
    "output_dir.parents[0].mkdir(parents=True, exist_ok=True)\n",
    "discrete_dir = Path('../data/discrete')\n",
    "continuous_dir = Path('../data/continuous')\n",
    "\n",
    "N = None # None to do everything"
   ]
  },
  {
   "cell_type": "code",
   "execution_count": 3,
   "id": "3bef1219-9909-4968-99d3-c9096380dbfe",
   "metadata": {},
   "outputs": [],
   "source": [
    "def h3index_raster(file, output_dir, h3_res=12, stem=None, operation='max'):\n",
    "    import h3pandas # https://github.com/DahnJ/H3-Pandas/issues/27\n",
    "    with rasterio.open(file) as src:\n",
    "        array = src.read(1)\n",
    "        transform = src.transform\n",
    "    array[np.isnan(array)] = 0\n",
    "    height, width = array.shape\n",
    "    cols, rows = np.meshgrid(np.arange(width), np.arange(height), indexing='xy')\n",
    "    xs, ys = rasterio.transform.xy(transform, rows.flatten(), cols.flatten(), offset='center')\n",
    "    dstack = np.dstack((xs, ys))[0]\n",
    "    pts = [Point(*c) for c in dstack]\n",
    "    df = gpd.GeoDataFrame(zip(array.flatten(), pts), columns=['value','geometry'], crs='EPSG:2193')\n",
    "    df = df.to_crs(4326)\n",
    "    df = df.h3.geo_to_h3_aggregate(h3_res, operation=operation, return_geometry=False)\n",
    "    df.to_parquet(f'{(output_dir)}/{stem or ''}_{(file.stem)}.parquet', index=f'h3_{h3_res}')"
   ]
  },
  {
   "cell_type": "code",
   "execution_count": 4,
   "id": "3d2d408d-2eeb-4469-aa5d-15349643ed06",
   "metadata": {},
   "outputs": [
    {
     "name": "stdout",
     "output_type": "stream",
     "text": [
      "CPU times: user 30.9 s, sys: 2.02 s, total: 32.9 s\n",
      "Wall time: 16min 40s\n"
     ]
    }
   ],
   "source": [
    "%%time\n",
    "mode = lambda x: pd.Series.mode(x)[0]\n",
    "Parallel(n_jobs=-1)(delayed(h3index_raster)(file, output_dir, stem='discrete', operation=mode) for file in list(sorted(discrete_dir.glob('*.asc')))[:N])\n",
    "pass"
   ]
  },
  {
   "cell_type": "code",
   "execution_count": 5,
   "id": "0ba3e000-070b-4c5e-a98b-1d73f5e6d963",
   "metadata": {},
   "outputs": [
    {
     "name": "stdout",
     "output_type": "stream",
     "text": [
      "CPU times: user 21.8 s, sys: 1.28 s, total: 23 s\n",
      "Wall time: 7min 43s\n"
     ]
    }
   ],
   "source": [
    "%%time\n",
    "Parallel(n_jobs=-1)(delayed(h3index_raster)(file, output_dir, stem='continuous', operation='mean') for file in list(sorted(discrete_dir.glob('*.asc')))[:N])\n",
    "pass"
   ]
  }
 ],
 "metadata": {
  "kernelspec": {
   "display_name": "Python 3 (ipykernel)",
   "language": "python",
   "name": "python3"
  },
  "language_info": {
   "codemirror_mode": {
    "name": "ipython",
    "version": 3
   },
   "file_extension": ".py",
   "mimetype": "text/x-python",
   "name": "python",
   "nbconvert_exporter": "python",
   "pygments_lexer": "ipython3",
   "version": "3.12.3"
  }
 },
 "nbformat": 4,
 "nbformat_minor": 5
}
