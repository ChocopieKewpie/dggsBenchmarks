{
 "cells": [
  {
   "cell_type": "code",
   "execution_count": 1,
   "id": "a6127309-a496-40f3-b9cc-b0cc0d978807",
   "metadata": {},
   "outputs": [],
   "source": [
    "from itertools import product\n",
    "import numpy as np\n",
    "from pathlib import Path\n",
    "\n",
    "from dask import delayed\n",
    "import dask.dataframe as dd\n",
    "import geopandas as gpd\n",
    "import h3pandas\n",
    "import pandas as pd"
   ]
  },
  {
   "cell_type": "code",
   "execution_count": 2,
   "id": "0695e609-1c0c-43d9-b6d1-f8231e07f4c1",
   "metadata": {},
   "outputs": [],
   "source": [
    "input_dir = Path('../data/output')\n",
    "output_dir = Path('../data/output-joining')\n",
    "\n",
    "d_output = output_dir / 'raster_combined-discrete.gpkg'\n",
    "c_output = output_dir / 'raster_combined-continuous.gpkg'\n",
    "\n",
    "d_files = list(input_dir.glob('discrete*.parquet'))\n",
    "c_files = list(input_dir.glob('continuous*.parquet'))\n",
    "\n",
    "N = 10000"
   ]
  },
  {
   "cell_type": "code",
   "execution_count": 3,
   "id": "2d983fed-3ffc-4120-832d-38b6b9a04c0c",
   "metadata": {},
   "outputs": [],
   "source": [
    "@np.vectorize\n",
    "def is_prime(n):\n",
    "    if np.isnan(n):\n",
    "        return False\n",
    "    if n % 2 == 0 and n > 2:\n",
    "        return False\n",
    "    return all(n % i for i in range(3, int(np.sqrt(n)) + 1, 2))\n",
    "\n",
    "@np.vectorize\n",
    "def is_polygonal(s, x):\n",
    "    if np.isnan(x):\n",
    "        return 0\n",
    "    assert s > 2 and s % 1 == 0 and x % 1 == 0\n",
    "    n = (np.sqrt(8 * (s - 2) * x + (s - 4) ** 2) + (s - 4)) / (2 * (s - 2))\n",
    "    return n % 1 == 0\n",
    "\n",
    "@np.vectorize\n",
    "def is_fibonacci(n):\n",
    "    a, b = 0,1\n",
    "    while a < n:\n",
    "        a, b = b, a + b\n",
    "    return a == n\n",
    "\n",
    "@np.vectorize\n",
    "def is_perfect(n):\n",
    "    sum = 1\n",
    "    i = 2\n",
    "    while i * i <= n:\n",
    "        if n % i == 0:\n",
    "            sum = sum + i + n/i\n",
    "        i += 1\n",
    "    return sum == n and n != 1\n",
    "\n",
    "def is_triangular(n):\n",
    "    return is_polygonal(3, n)\n",
    "\n",
    "def is_rectangular(n):\n",
    "    return is_polygonal(4, n)\n",
    "\n",
    "def is_pentagonal(n):\n",
    "    return is_polygonal(5, n)\n",
    "\n",
    "def is_hexagonal(n):\n",
    "    return is_polygonal(6, n)\n",
    "\n",
    "funcs = [\n",
    "    is_prime,\n",
    "    is_triangular, is_rectangular, is_pentagonal, is_hexagonal,\n",
    "    is_fibonacci,\n",
    "    is_perfect\n",
    "]\n"
   ]
  },
  {
   "cell_type": "code",
   "execution_count": 4,
   "id": "6dbf4ae7-0c81-4bca-9f0d-64483374a25f",
   "metadata": {},
   "outputs": [],
   "source": [
    "@delayed\n",
    "def read_and_label(filename, label, meta_type=np.int32):\n",
    "    df = pd.read_parquet(filename)\n",
    "    df['value'] = df['value'].astype(meta_type)\n",
    "    df = df.rename(columns={\"value\": label})\n",
    "    return df\n",
    "\n",
    "@delayed\n",
    "def join(dfs):\n",
    "    joined_df = dfs[0]\n",
    "    for df in dfs[1:]:\n",
    "        joined_df = joined_df.merge(df, on='h3_12', how='outer')\n",
    "    return joined_df\n",
    "\n",
    "def classify(df, scale=1):\n",
    "    series = []\n",
    "    func_col_combos = list(product(funcs, df.columns))\n",
    "    for func, col in func_col_combos:\n",
    "        series.append((df[col]*scale).apply(np.floor).apply(func).astype(int))\n",
    "    return pd.concat(series, axis=1).sum(axis=1).to_frame()"
   ]
  },
  {
   "cell_type": "code",
   "execution_count": 5,
   "id": "060d988c-3f39-49ff-a2d0-71951aadd8d6",
   "metadata": {},
   "outputs": [
    {
     "name": "stdout",
     "output_type": "stream",
     "text": [
      "CPU times: user 3min 18s, sys: 3.34 s, total: 3min 21s\n",
      "Wall time: 3min 22s\n"
     ]
    }
   ],
   "source": [
    "%%time\n",
    "# Read, join and classify discrete parquet data\n",
    "df = join([read_and_label(file, label, meta_type=np.int32) for file, label in zip(d_files[:N], range(0, N))]).compute()\n",
    "df = df.fillna(value=0).astype(np.int32)\n",
    "    \n",
    "classify(df).rename(columns={0: 'satisfaction'}).h3.h3_to_geo_boundary().to_file(d_output, driver='GPKG', mode='w')"
   ]
  },
  {
   "cell_type": "code",
   "execution_count": 6,
   "id": "b76a8fb8-1263-4ccc-b3b6-e72659a1fff2",
   "metadata": {},
   "outputs": [
    {
     "name": "stdout",
     "output_type": "stream",
     "text": [
      "CPU times: user 3min 30s, sys: 976 ms, total: 3min 31s\n",
      "Wall time: 3min 32s\n"
     ]
    }
   ],
   "source": [
    "%%time\n",
    "df = join([read_and_label(file, label, meta_type=np.float32) for file, label in zip(c_files[:N], range(0, N))]).compute()\n",
    "df = df.fillna(value=0.0).astype(np.float32)\n",
    "\n",
    "classify(df, scale=100).rename(columns={0: 'satisfaction'}).h3.h3_to_geo_boundary().to_file(c_output, driver='GPKG', mode='w')"
   ]
  }
 ],
 "metadata": {
  "kernelspec": {
   "display_name": "Python 3 (ipykernel)",
   "language": "python",
   "name": "python3"
  },
  "language_info": {
   "codemirror_mode": {
    "name": "ipython",
    "version": 3
   },
   "file_extension": ".py",
   "mimetype": "text/x-python",
   "name": "python",
   "nbconvert_exporter": "python",
   "pygments_lexer": "ipython3",
   "version": "3.12.3"
  }
 },
 "nbformat": 4,
 "nbformat_minor": 5
}
