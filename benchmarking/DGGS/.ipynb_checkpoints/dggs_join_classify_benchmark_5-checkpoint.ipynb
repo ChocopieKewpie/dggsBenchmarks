{
 "cells": [
  {
   "cell_type": "code",
   "execution_count": 1,
   "id": "56525c39-20ce-44a7-a639-535f48332b4b",
   "metadata": {},
   "outputs": [],
   "source": [
    "from functools import partial\n",
    "from math import sqrt\n",
    "from pathlib import Path\n",
    "import geopandas as gpd\n",
    "import h3pandas\n",
    "from itertools import product\n",
    "import time\n",
    "import timeit\n",
    "import csv"
   ]
  },
  {
   "cell_type": "code",
   "execution_count": 2,
   "id": "e44cba71-8263-485c-863f-e2ec5f7615b3",
   "metadata": {},
   "outputs": [],
   "source": [
    "input_dir = Path('vector_1000')\n",
    "output_dir = Path.cwd()\n",
    "\n",
    "# Get a list of all GPKG files in the folder\n",
    "v_files = list(sorted(input_dir.glob('*.gpkg')))"
   ]
  },
  {
   "cell_type": "code",
   "execution_count": 3,
   "id": "d70aba6d-d56d-4c4f-a0d3-840de1a372d3",
   "metadata": {},
   "outputs": [],
   "source": [
    "# Specify the number of files to open\n",
    "num_files_to_open = 5  #Layers to join\n",
    "h3_res=14   #Setting h3 resolution\n",
    "bench_runs=30  #Benchmark runs, should probably do 30 "
   ]
  },
  {
   "cell_type": "code",
   "execution_count": 4,
   "id": "84362c3a-7b10-4053-bc3a-0ed5e5b7c03e",
   "metadata": {},
   "outputs": [],
   "source": [
    "# Loop through each GPKG file, index and join\n",
    "for i, file in enumerate(v_files[:num_files_to_open]):\n",
    "        col_name = file.stem.split('_')[1]  # Extracting the column name from the file name\n",
    "        df = gpd.read_file(file).to_crs(4326)\n",
    "        df = df.h3.polyfill(h3_res, explode=True).drop(columns=['geometry'])\n",
    "        df.columns = [col_name, *df.columns[1:]]  # Setting the column to the file\n",
    "        df = df.set_index('h3_polyfill')\n",
    "        if i == 0:\n",
    "            combined_df = df.copy()\n",
    "        else:\n",
    "            combined_df = combined_df.join(df)"
   ]
  },
  {
   "cell_type": "markdown",
   "id": "3d87714c-6e42-4fbd-a1ec-83a375f3ffc5",
   "metadata": {},
   "source": [
    "Benchmarking for joining"
   ]
  },
  {
   "cell_type": "code",
   "execution_count": 5,
   "id": "62ceddda-b76a-4419-8013-541e1cbdf6ca",
   "metadata": {},
   "outputs": [],
   "source": [
    "indexing_time= []\n",
    "joining_time = []\n",
    "\n",
    "def run_loop(num_files_to_open, v_files, h3_res):\n",
    "    index_time= []\n",
    "    join_time= []\n",
    "\n",
    "    start_time = time.time()\n",
    "    for i, file in enumerate(v_files[:num_files_to_open]):\n",
    "        \n",
    "        col_name = file.stem.split('_')[1]  # Extracting the column name from the file name\n",
    "        df = gpd.read_file(file).to_crs(4326)\n",
    "\n",
    "        #Indexing benchmark\n",
    "        index_Stime=time.time()\n",
    "        df = df.h3.polyfill(h3_res, explode=True).drop(columns=['geometry'])\n",
    "        index_Etime=time.time()\n",
    "        index_Ftime = index_Etime - index_Stime\n",
    "        index_time.append(index_Ftime)\n",
    "\n",
    "        #Joining benchmark\n",
    "        join_Stime=time.time()\n",
    "        df.columns = [col_name, *df.columns[1:]]  # Setting the column to the file\n",
    "        df = df.set_index('h3_polyfill')\n",
    "        if i == 0:\n",
    "            combined_df = df.copy()\n",
    "        else:\n",
    "            combined_df = combined_df.join(df)\n",
    "        join_Etime=time.time()\n",
    "        join_Ftime = join_Etime - join_Stime\n",
    "        join_time.append(join_Ftime)\n",
    "\n",
    "    # Calculate and print the time taken for each run\n",
    "    end_time = time.time()\n",
    "    time_taken = end_time - start_time\n",
    "    \n",
    "    indexing_time.append(sum(index_time))\n",
    "    joining_time.append(sum(join_time))\n",
    "    print(f'Run: index time - {sum(index_time)} , joining time - {sum(join_time)} seconds, Total time- {time_taken} seconds')"
   ]
  },
  {
   "cell_type": "code",
   "execution_count": 6,
   "id": "986d5b86-1e5d-4ae4-b0fa-fafd47a80ee6",
   "metadata": {},
   "outputs": [
    {
     "name": "stdout",
     "output_type": "stream",
     "text": [
      "Run: index time - 1.2729337215423584 , joining time - 0.19583487510681152 seconds, Total time- 1.530299186706543 seconds\n",
      "Run: index time - 1.2957854270935059 , joining time - 0.2060379981994629 seconds, Total time- 1.564988136291504 seconds\n",
      "Run: index time - 1.4009621143341064 , joining time - 0.22077131271362305 seconds, Total time- 1.705867052078247 seconds\n",
      "Run: index time - 1.3428280353546143 , joining time - 0.21068668365478516 seconds, Total time- 1.6325995922088623 seconds\n",
      "Run: index time - 1.446458339691162 , joining time - 0.2079331874847412 seconds, Total time- 1.7493042945861816 seconds\n",
      "Run: index time - 1.3764703273773193 , joining time - 0.22606468200683594 seconds, Total time- 1.6715328693389893 seconds\n",
      "Run: index time - 1.4018795490264893 , joining time - 0.20673322677612305 seconds, Total time- 1.6834659576416016 seconds\n",
      "Run: index time - 1.3561086654663086 , joining time - 0.22473716735839844 seconds, Total time- 1.6592848300933838 seconds\n",
      "Run: index time - 1.4142301082611084 , joining time - 0.23859381675720215 seconds, Total time- 1.7244694232940674 seconds\n",
      "Run: index time - 1.2934863567352295 , joining time - 0.23117518424987793 seconds, Total time- 1.5966277122497559 seconds\n",
      "Run: index time - 1.3190608024597168 , joining time - 0.2512831687927246 seconds, Total time- 1.6281964778900146 seconds\n",
      "Run: index time - 1.3701703548431396 , joining time - 0.20156264305114746 seconds, Total time- 1.6420023441314697 seconds\n",
      "Run: index time - 1.4069161415100098 , joining time - 0.20126581192016602 seconds, Total time- 1.6627833843231201 seconds\n",
      "Run: index time - 1.3426802158355713 , joining time - 0.21568083763122559 seconds, Total time- 1.6286835670471191 seconds\n",
      "Run: index time - 1.3644556999206543 , joining time - 0.25756168365478516 seconds, Total time- 1.6911935806274414 seconds\n",
      "Run: index time - 1.374178171157837 , joining time - 0.22909927368164062 seconds, Total time- 1.671187162399292 seconds\n",
      "Run: index time - 1.4437639713287354 , joining time - 0.22182703018188477 seconds, Total time- 1.72874116897583 seconds\n",
      "Run: index time - 1.4554626941680908 , joining time - 0.21914410591125488 seconds, Total time- 1.7458620071411133 seconds\n",
      "Run: index time - 1.367966651916504 , joining time - 0.22878694534301758 seconds, Total time- 1.668102502822876 seconds\n",
      "Run: index time - 1.5189225673675537 , joining time - 0.24653172492980957 seconds, Total time- 1.8459572792053223 seconds\n",
      "Run: index time - 1.3955233097076416 , joining time - 0.21077847480773926 seconds, Total time- 1.6701302528381348 seconds\n",
      "Run: index time - 1.4206852912902832 , joining time - 0.20895004272460938 seconds, Total time- 1.6978800296783447 seconds\n",
      "Run: index time - 1.3982386589050293 , joining time - 0.23347806930541992 seconds, Total time- 1.6941382884979248 seconds\n",
      "Run: index time - 1.397920846939087 , joining time - 0.2193889617919922 seconds, Total time- 1.6774609088897705 seconds\n",
      "Run: index time - 1.3987858295440674 , joining time - 0.2168896198272705 seconds, Total time- 1.6956405639648438 seconds\n",
      "Run: index time - 1.4611537456512451 , joining time - 0.2375929355621338 seconds, Total time- 1.7819764614105225 seconds\n",
      "Run: index time - 1.428680658340454 , joining time - 0.2275228500366211 seconds, Total time- 1.7160146236419678 seconds\n",
      "Run: index time - 1.4583289623260498 , joining time - 0.19135141372680664 seconds, Total time- 1.7030868530273438 seconds\n",
      "Run: index time - 1.402019739151001 , joining time - 0.21107101440429688 seconds, Total time- 1.680405855178833 seconds\n",
      "Run: index time - 1.4019684791564941 , joining time - 0.20357799530029297 seconds, Total time- 1.6802501678466797 seconds\n"
     ]
    },
    {
     "data": {
      "text/plain": [
       "50.64926960004959"
      ]
     },
     "execution_count": 6,
     "metadata": {},
     "output_type": "execute_result"
    }
   ],
   "source": [
    "timeit.timeit(lambda: run_loop(num_files_to_open, v_files, h3_res), number=bench_runs) #Benchmark run for joining"
   ]
  },
  {
   "cell_type": "markdown",
   "id": "5dc4011c-b87f-4731-890f-aaab9943bb35",
   "metadata": {},
   "source": [
    "Defining classes"
   ]
  },
  {
   "cell_type": "code",
   "execution_count": 7,
   "id": "d54cd7f1-cd26-4c62-a018-fb3180466155",
   "metadata": {},
   "outputs": [],
   "source": [
    "def is_prime(n):\n",
    "    count = 0\n",
    "    if n > 1:\n",
    "        for i in range(1, n + 1):\n",
    "            if n % i == 0:\n",
    "                count += 1\n",
    "    return count == 2\n",
    "\n",
    "def is_polygonal(s, x):\n",
    "    assert s > 2 and s % 1 == 0 and x % 1 == 0\n",
    "    n = (sqrt(8 * (s - 2) * x + (s - 4) ** 2) + (s - 4)) / (2 * (s - 2))\n",
    "    return n % 1 == 0\n",
    "\n",
    "def is_fibonacci(n):\n",
    "    a, b = 0,1\n",
    "    while a < n:\n",
    "        a, b = b, a + b\n",
    "    return a == n\n",
    "\n",
    "def is_perfect(n):\n",
    "    sum = 1\n",
    "    i = 2\n",
    "    while i * i <= n:\n",
    "        if n % i == 0:\n",
    "            sum = sum + i + n/i\n",
    "        i += 1\n",
    "    return sum == n and n != 1"
   ]
  },
  {
   "cell_type": "code",
   "execution_count": 8,
   "id": "69895183-7ad3-4153-8577-dcfe87930f0a",
   "metadata": {},
   "outputs": [],
   "source": [
    "combined_df['sum'] = combined_df.select_dtypes(include='number').sum(axis=1)\n",
    "classes = [\n",
    "    ('is_prime', is_prime),\n",
    "    ('is_triangular', partial(is_polygonal, 3)),\n",
    "    ('is_rectangular', partial(is_polygonal, 4)),\n",
    "    ('is_pentagonal', partial(is_polygonal, 5)),\n",
    "    ('is_hexagonal', partial(is_polygonal, 6)),\n",
    "    ('is_fibonacci', is_fibonacci),\n",
    "    ('is_perfect', is_perfect),\n",
    "]\n",
    "for i, func in enumerate(classes):\n",
    "    combined_df[func[0]] = combined_df['sum'].apply(func[1])"
   ]
  },
  {
   "cell_type": "code",
   "execution_count": 9,
   "id": "c8680f9e-2947-4943-9800-83096693168a",
   "metadata": {},
   "outputs": [],
   "source": [
    "numerics = list(combined_df.select_dtypes(include='number'))\n",
    "combined_df = combined_df.drop(columns=numerics)"
   ]
  },
  {
   "cell_type": "code",
   "execution_count": 10,
   "id": "19d694e4-ca2c-4228-b5a6-2abec704c85b",
   "metadata": {},
   "outputs": [],
   "source": [
    "combinations = list(product([True, False], repeat=7))\n",
    "class_mapping = {tuple(row): f'Class_{i+1:03}' for i, row in enumerate(combinations)}"
   ]
  },
  {
   "cell_type": "markdown",
   "id": "e8b75a20-742e-4f5d-b686-435209920150",
   "metadata": {},
   "source": [
    "Benchmarking Classification"
   ]
  },
  {
   "cell_type": "code",
   "execution_count": 11,
   "id": "d955488e-b03e-4c6f-bc32-9ac5a1de3645",
   "metadata": {},
   "outputs": [],
   "source": [
    "classify_time=[]\n",
    "def classify_loop():\n",
    "    \n",
    "    start_time = time.time()\n",
    "\n",
    "    bench_class = combined_df.apply(lambda row: class_mapping[tuple(row.astype(int))], axis=1) #This should remain the same, as cell count remains static   \n",
    "\n",
    "    end_time = time.time()\n",
    "    \n",
    "    # Calculate and print the time taken for each run\n",
    "    time_taken = end_time - start_time\n",
    "    classify_time.append(time_taken)\n",
    "    print(f'Run: Time taken - {time_taken} seconds')"
   ]
  },
  {
   "cell_type": "code",
   "execution_count": null,
   "id": "b2ed3d33-ccfc-4cb7-bf29-b2fe0995105d",
   "metadata": {},
   "outputs": [
    {
     "name": "stdout",
     "output_type": "stream",
     "text": [
      "Run: Time taken - 5.718534231185913 seconds\n",
      "Run: Time taken - 5.806447744369507 seconds\n",
      "Run: Time taken - 5.825868368148804 seconds\n",
      "Run: Time taken - 5.770756959915161 seconds\n",
      "Run: Time taken - 5.902108430862427 seconds\n",
      "Run: Time taken - 5.942258834838867 seconds\n",
      "Run: Time taken - 5.760552167892456 seconds\n",
      "Run: Time taken - 5.8908610343933105 seconds\n",
      "Run: Time taken - 5.849545478820801 seconds\n",
      "Run: Time taken - 5.909240007400513 seconds\n",
      "Run: Time taken - 5.85964822769165 seconds\n",
      "Run: Time taken - 5.622684478759766 seconds\n",
      "Run: Time taken - 5.826650381088257 seconds\n",
      "Run: Time taken - 5.8032097816467285 seconds\n",
      "Run: Time taken - 6.0096893310546875 seconds\n",
      "Run: Time taken - 5.86868953704834 seconds\n",
      "Run: Time taken - 5.758673906326294 seconds\n",
      "Run: Time taken - 5.846710920333862 seconds\n",
      "Run: Time taken - 5.769681453704834 seconds\n",
      "Run: Time taken - 6.429086685180664 seconds\n",
      "Run: Time taken - 5.8360466957092285 seconds\n",
      "Run: Time taken - 5.973306655883789 seconds\n",
      "Run: Time taken - 5.809787750244141 seconds\n",
      "Run: Time taken - 5.782105445861816 seconds\n",
      "Run: Time taken - 5.924844264984131 seconds\n",
      "Run: Time taken - 5.76991868019104 seconds\n",
      "Run: Time taken - 5.740326404571533 seconds\n",
      "Run: Time taken - 5.718364477157593 seconds\n",
      "Run: Time taken - 6.173707008361816 seconds\n"
     ]
    }
   ],
   "source": [
    "timeit.timeit(lambda: classify_loop(), number=bench_runs) #Benchmark run for classifying"
   ]
  },
  {
   "cell_type": "markdown",
   "id": "1d99599d-b346-4b63-81b3-06586484416e",
   "metadata": {},
   "source": [
    "Writing benchmark results"
   ]
  },
  {
   "cell_type": "code",
   "execution_count": null,
   "id": "481ccbcc-be4b-4455-b7bf-af8f8b504dea",
   "metadata": {},
   "outputs": [],
   "source": [
    "with open(f'DGGS_benchmark_{num_files_to_open}_layers.csv', 'w', newline='') as csvfile: #Writing benchmark results\n",
    "    writer = csv.writer(csvfile)\n",
    "    writer.writerow(['Run', 'Indexing(s)', 'Joining(s)','Classify(s)'])\n",
    "    for i, (index_taken, join_taken, classify_taken) in enumerate(zip(indexing_time,joining_time, classify_time)):\n",
    "        writer.writerow([i+1, index_taken, join_taken, classify_taken])"
   ]
  },
  {
   "cell_type": "markdown",
   "id": "cf07ebd8-82a7-4525-9a74-08809708486c",
   "metadata": {},
   "source": [
    "Applying classification"
   ]
  },
  {
   "cell_type": "code",
   "execution_count": null,
   "id": "9d9b39dd-2eff-46c4-bab5-79657963aeb4",
   "metadata": {},
   "outputs": [],
   "source": [
    "combined_df['class'] = combined_df.apply(lambda row: class_mapping[tuple(row.astype(int))], axis=1) #This should remain the same, as cell count remains static"
   ]
  },
  {
   "cell_type": "code",
   "execution_count": null,
   "id": "c2713834-c66d-4111-a1e7-39c8d99f8cf7",
   "metadata": {},
   "outputs": [],
   "source": [
    "h3_df=combined_df[['class']]"
   ]
  },
  {
   "cell_type": "code",
   "execution_count": null,
   "id": "294e4946-915f-4761-afc7-45e1e4eda63c",
   "metadata": {},
   "outputs": [],
   "source": [
    "h3_df=h3_df.h3.h3_to_geo_boundary() #NOT going to benchmark these yet. But this should remain the same, as cell count remains static this whole cell should take roughly 10s"
   ]
  },
  {
   "cell_type": "code",
   "execution_count": null,
   "id": "00eca3ce-9f68-402d-90b4-67e28b898146",
   "metadata": {},
   "outputs": [],
   "source": [
    "h3_df=h3_df.dissolve(by='class').reset_index().to_crs(2193)  #Technically this is traditional method, do we even include this? I think not."
   ]
  },
  {
   "cell_type": "markdown",
   "id": "6ccebb4c-ed31-4c92-ab81-4a1c7e6e93f5",
   "metadata": {},
   "source": [
    "Writing Geopackage output"
   ]
  },
  {
   "cell_type": "code",
   "execution_count": null,
   "id": "fb1a53e5-464a-4a10-bfa4-982615935ec8",
   "metadata": {},
   "outputs": [],
   "source": [
    "output_dir.mkdir(parents=True, exist_ok=True)\n",
    "output = (output_dir / f'DGGS_{num_files_to_open}_layers.gpkg')\n",
    "# output.touch(exist_ok=True)\n",
    "h3_df.to_file(output, layer='benchmarking', driver='GPKG', mode='w')"
   ]
  },
  {
   "cell_type": "code",
   "execution_count": null,
   "id": "bd97b38e-6a23-47d2-82c9-d003d3ccd698",
   "metadata": {},
   "outputs": [],
   "source": [
    "h3_df.plot('class', cmap='viridis')"
   ]
  }
 ],
 "metadata": {
  "kernelspec": {
   "display_name": "Python 3 (ipykernel)",
   "language": "python",
   "name": "python3"
  },
  "language_info": {
   "codemirror_mode": {
    "name": "ipython",
    "version": 3
   },
   "file_extension": ".py",
   "mimetype": "text/x-python",
   "name": "python",
   "nbconvert_exporter": "python",
   "pygments_lexer": "ipython3",
   "version": "3.11.6"
  }
 },
 "nbformat": 4,
 "nbformat_minor": 5
}
