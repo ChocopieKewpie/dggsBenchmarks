{
 "cells": [
  {
   "cell_type": "code",
   "execution_count": 4,
   "id": "4669a2a2-2a8c-4df1-8750-d501abfb38ef",
   "metadata": {},
   "outputs": [],
   "source": [
    "import rasterio\n",
    "import geopandas as gpd\n",
    "from shapely.geometry import Point\n",
    "import h3pandas\n",
    "from pathlib import Path\n",
    "import numpy as np"
   ]
  },
  {
   "cell_type": "code",
   "execution_count": 6,
   "id": "961e32ee-69d6-4d05-bab3-a2ad60335c27",
   "metadata": {},
   "outputs": [],
   "source": [
    "input_dir = Path('discrete')\n",
    "output_dir = Path('discrete_h3')\n",
    "\n",
    "# Get a list of all GPKG files in the folder\n",
    "r_files = list(sorted(input_dir.glob('*.asc')))"
   ]
  },
  {
   "cell_type": "code",
   "execution_count": 23,
   "id": "3d2d408d-2eeb-4469-aa5d-15349643ed06",
   "metadata": {},
   "outputs": [],
   "source": [
    "for file in r_files:\n",
    "    with rasterio.open(file) as src:\n",
    "        array = src.read(1)\n",
    "        transform = src.transform\n",
    "    rows, cols = array.shape\n",
    "    xs, ys = np.indices((cols, rows))  \n",
    "    xs_flat = xs.flatten()\n",
    "    ys_flat = ys.flatten()\n",
    "    values_flat = array.flatten()\n",
    "    coords = rasterio.transform.xy(transform, xs_flat, ys_flat)\n",
    "    points = list(zip(coords[0], coords[1], values_flat))\n",
    "    geometry = [Point(x, y) for x, y, _ in points]\n",
    "    df = gpd.GeoDataFrame(points, columns=['X', 'Y', 'Value'], geometry=geometry)\n",
    "    df=df.drop(columns=['X','Y']).set_crs(2193)\n",
    "    df=df.to_crs(4326)\n",
    "    h3=df.h3.geo_to_h3_aggregate(12, operation='max')\n",
    "    h3.to_parquet(f'{(output_dir)}/{(file.stem)}.parquet')\n",
    "    break"
   ]
  },
  {
   "cell_type": "code",
   "execution_count": null,
   "id": "812b1507-aa14-444f-bd81-850793651fad",
   "metadata": {},
   "outputs": [],
   "source": []
  },
  {
   "cell_type": "code",
   "execution_count": null,
   "id": "ccd43a28-5352-4f91-a599-9296c2daac18",
   "metadata": {},
   "outputs": [],
   "source": []
  }
 ],
 "metadata": {
  "kernelspec": {
   "display_name": "Python 3 (ipykernel)",
   "language": "python",
   "name": "python3"
  },
  "language_info": {
   "codemirror_mode": {
    "name": "ipython",
    "version": 3
   },
   "file_extension": ".py",
   "mimetype": "text/x-python",
   "name": "python",
   "nbconvert_exporter": "python",
   "pygments_lexer": "ipython3",
   "version": "3.11.7"
  }
 },
 "nbformat": 4,
 "nbformat_minor": 5
}
