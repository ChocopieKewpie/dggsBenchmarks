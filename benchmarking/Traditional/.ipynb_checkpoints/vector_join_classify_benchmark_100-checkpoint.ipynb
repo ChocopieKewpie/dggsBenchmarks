{
 "cells": [
  {
   "cell_type": "code",
   "execution_count": 1,
   "id": "29372051-18f4-41c4-a32d-df5955aa7355",
   "metadata": {},
   "outputs": [],
   "source": [
    "from functools import partial\n",
    "from math import sqrt\n",
    "from pathlib import Path\n",
    "import geopandas as gpd\n",
    "from itertools import product\n",
    "import time\n",
    "import timeit\n",
    "import csv"
   ]
  },
  {
   "cell_type": "code",
   "execution_count": 2,
   "id": "a9c22b4d-6a20-41a1-abc4-07f32be86c0a",
   "metadata": {},
   "outputs": [],
   "source": [
    "input_dir = Path('vector_1000')\n",
    "output_dir = Path.cwd()\n",
    "\n",
    "# Get a list of all GPKG files in the folder\n",
    "v_files = list(sorted(input_dir.glob('*.gpkg')))"
   ]
  },
  {
   "cell_type": "code",
   "execution_count": 3,
   "id": "5876bb58-8931-4eca-843c-532286f711e9",
   "metadata": {},
   "outputs": [],
   "source": [
    "# Specify the number of files to open\n",
    "num_files_to_open = 100\n",
    "bench_runs=30  #Benchmark runs, should probably do 30 "
   ]
  },
  {
   "cell_type": "code",
   "execution_count": 4,
   "id": "e7aa071d-45b7-40c8-b650-361e45f408dd",
   "metadata": {},
   "outputs": [],
   "source": [
    "# Loop through each GPKG file and join\n",
    "for i, file in enumerate(v_files[:num_files_to_open]):\n",
    "    col_name = file.stem.split('_')[1]  # Extracting the column name from the file name\n",
    "    df = gpd.read_file(file)\n",
    "    df.columns = [col_name, *df.columns[1:]] #Setting the column to the file\n",
    "    if i == 0:\n",
    "        combined_df = df.copy()\n",
    "    else:\n",
    "        combined_df = gpd.overlay(combined_df, df)"
   ]
  },
  {
   "cell_type": "markdown",
   "id": "23982ded-3b22-44a1-8db9-7c74b7f0a99b",
   "metadata": {},
   "source": [
    "Benchmarking for joining"
   ]
  },
  {
   "cell_type": "code",
   "execution_count": 5,
   "id": "7b5205bd-2088-4cab-b12b-bb9512e6fe75",
   "metadata": {},
   "outputs": [],
   "source": [
    "joining_time = []\n",
    "def run_loop(num_files_to_open, v_files):\n",
    "    \n",
    "    join_time= []\n",
    "    start_time = time.time()\n",
    "    for i, file in enumerate(v_files[:num_files_to_open]):\n",
    "        col_name = file.stem.split('_')[1]  # Extracting the column name from the file name\n",
    "        df = gpd.read_file(file)\n",
    "        df.columns = [col_name, *df.columns[1:]] #Setting the column to the file\n",
    "\n",
    "        #Joining benchmark\n",
    "        join_Stime=time.time()\n",
    "        if i == 0:\n",
    "            combined_df = df.copy()\n",
    "        else:\n",
    "            combined_df = gpd.overlay(combined_df, df) \n",
    "        join_Etime=time.time()\n",
    "        join_Ftime = join_Etime - join_Stime\n",
    "        join_time.append(join_Ftime)\n",
    "        \n",
    "    end_time = time.time()\n",
    "    \n",
    "    # Calculate and print the time taken for each run\n",
    "    time_taken = end_time - start_time\n",
    "    joining_time.append(sum(join_time))\n",
    "    print(f'Run: Joining time- {sum(join_time)} , Total Time taken - {time_taken} seconds')"
   ]
  },
  {
   "cell_type": "code",
   "execution_count": 6,
   "id": "cf0c8d91-eca8-4e3b-88b3-c274c864c54f",
   "metadata": {},
   "outputs": [
    {
     "name": "stdout",
     "output_type": "stream",
     "text": [
      "Run: Joining time- 498.81545209884644 , Total Time taken - 500.10979104042053 seconds\n",
      "Run: Joining time- 389.31525444984436 , Total Time taken - 390.4242248535156 seconds\n",
      "Run: Joining time- 380.4957320690155 , Total Time taken - 381.62742805480957 seconds\n",
      "Run: Joining time- 422.7017865180969 , Total Time taken - 423.81195044517517 seconds\n",
      "Run: Joining time- 377.97346210479736 , Total Time taken - 379.30134415626526 seconds\n",
      "Run: Joining time- 476.466970205307 , Total Time taken - 477.77076292037964 seconds\n",
      "Run: Joining time- 382.31259322166443 , Total Time taken - 383.45258498191833 seconds\n",
      "Run: Joining time- 455.3882119655609 , Total Time taken - 456.60805344581604 seconds\n",
      "Run: Joining time- 398.1823036670685 , Total Time taken - 399.2033221721649 seconds\n",
      "Run: Joining time- 408.78109645843506 , Total Time taken - 409.94284534454346 seconds\n",
      "Run: Joining time- 383.26140999794006 , Total Time taken - 387.82810521125793 seconds\n",
      "Run: Joining time- 402.33724784851074 , Total Time taken - 403.57377529144287 seconds\n",
      "Run: Joining time- 444.08173274993896 , Total Time taken - 445.41052532196045 seconds\n",
      "Run: Joining time- 405.9737763404846 , Total Time taken - 407.27691292762756 seconds\n",
      "Run: Joining time- 439.2230989933014 , Total Time taken - 440.492623090744 seconds\n",
      "Run: Joining time- 424.35839796066284 , Total Time taken - 425.70943117141724 seconds\n",
      "Run: Joining time- 393.507554769516 , Total Time taken - 394.6715259552002 seconds\n",
      "Run: Joining time- 410.72763895988464 , Total Time taken - 411.9024381637573 seconds\n",
      "Run: Joining time- 393.6628930568695 , Total Time taken - 394.8666784763336 seconds\n",
      "Run: Joining time- 363.94529151916504 , Total Time taken - 365.014972448349 seconds\n",
      "Run: Joining time- 370.30352091789246 , Total Time taken - 371.3286283016205 seconds\n",
      "Run: Joining time- 425.81517577171326 , Total Time taken - 427.00824904441833 seconds\n",
      "Run: Joining time- 380.2634642124176 , Total Time taken - 381.5925509929657 seconds\n",
      "Run: Joining time- 414.59828996658325 , Total Time taken - 415.7490801811218 seconds\n",
      "Run: Joining time- 393.91451835632324 , Total Time taken - 395.07782673835754 seconds\n",
      "Run: Joining time- 383.74559116363525 , Total Time taken - 384.87054347991943 seconds\n",
      "Run: Joining time- 387.25393176078796 , Total Time taken - 388.21626806259155 seconds\n",
      "Run: Joining time- 396.199275970459 , Total Time taken - 397.2918243408203 seconds\n",
      "Run: Joining time- 402.3959209918976 , Total Time taken - 403.55840134620667 seconds\n",
      "Run: Joining time- 377.60359382629395 , Total Time taken - 378.6776776313782 seconds\n"
     ]
    },
    {
     "data": {
      "text/plain": [
       "12224.767833500053"
      ]
     },
     "execution_count": 6,
     "metadata": {},
     "output_type": "execute_result"
    }
   ],
   "source": [
    "timeit.timeit(lambda: run_loop(num_files_to_open, v_files), number=bench_runs) #Benchmark run for joining"
   ]
  },
  {
   "cell_type": "markdown",
   "id": "1302a53f-35e0-4c49-837b-9932cfef745e",
   "metadata": {},
   "source": [
    "Defining classes"
   ]
  },
  {
   "cell_type": "code",
   "execution_count": 7,
   "id": "8e3c2170-aea2-42c5-b0b4-6c74c41cac45",
   "metadata": {},
   "outputs": [],
   "source": [
    "def is_prime(n):\n",
    "    count = 0\n",
    "    if n > 1:\n",
    "        for i in range(1, n + 1):\n",
    "            if n % i == 0:\n",
    "                count += 1\n",
    "    return count == 2\n",
    "\n",
    "def is_polygonal(s, x):\n",
    "    assert s > 2 and s % 1 == 0 and x % 1 == 0\n",
    "    n = (sqrt(8 * (s - 2) * x + (s - 4) ** 2) + (s - 4)) / (2 * (s - 2))\n",
    "    return n % 1 == 0\n",
    "\n",
    "def is_fibonacci(n):\n",
    "    a, b = 0,1\n",
    "    while a < n:\n",
    "        a, b = b, a + b\n",
    "    return a == n\n",
    "\n",
    "def is_perfect(n):\n",
    "    sum = 1\n",
    "    i = 2\n",
    "    while i * i <= n:\n",
    "        if n % i == 0:\n",
    "            sum = sum + i + n/i\n",
    "        i += 1\n",
    "    return sum == n and n != 1"
   ]
  },
  {
   "cell_type": "code",
   "execution_count": 8,
   "id": "9944e1c2-89be-4b67-8f4e-54fc8cc49738",
   "metadata": {},
   "outputs": [],
   "source": [
    "combined_df['sum'] = combined_df.select_dtypes(include='number').sum(axis=1)\n",
    "classes = [\n",
    "    ('is_prime', is_prime),\n",
    "    ('is_triangular', partial(is_polygonal, 3)),\n",
    "    ('is_rectangular', partial(is_polygonal, 4)),\n",
    "    ('is_pentagonal', partial(is_polygonal, 5)),\n",
    "    ('is_hexagonal', partial(is_polygonal, 6)),\n",
    "    ('is_fibonacci', is_fibonacci),\n",
    "    ('is_perfect', is_perfect),\n",
    "]\n",
    "for i, func in enumerate(classes):\n",
    "    combined_df[func[0]] = combined_df['sum'].apply(func[1])"
   ]
  },
  {
   "cell_type": "code",
   "execution_count": 9,
   "id": "b777320c-0e0a-478e-9c6f-bf05695442af",
   "metadata": {},
   "outputs": [],
   "source": [
    "numerics = list(combined_df.select_dtypes(include='number'))\n",
    "combined_df = combined_df.drop(columns=numerics)"
   ]
  },
  {
   "cell_type": "code",
   "execution_count": 10,
   "id": "72b86f32-05e1-43f5-8371-d2485c2cd7ef",
   "metadata": {},
   "outputs": [],
   "source": [
    "combinations = list(product([True, False], repeat=7))\n",
    "class_mapping = {tuple(row): f'Class_{i+1:03}' for i, row in enumerate(combinations)}"
   ]
  },
  {
   "cell_type": "markdown",
   "id": "fb38b127-77cd-43b1-b804-fe9c9d348e0d",
   "metadata": {},
   "source": [
    "Benchmarking Classification"
   ]
  },
  {
   "cell_type": "code",
   "execution_count": 11,
   "id": "dcc45bf8-e0e7-4b28-bbe4-22ae12101e2d",
   "metadata": {},
   "outputs": [],
   "source": [
    "classify_time=[]\n",
    "def classify_loop():\n",
    "    \n",
    "    start_time = time.time()\n",
    "\n",
    "    bench_class = combined_df[['is_prime','is_triangular','is_rectangular','is_pentagonal','is_hexagonal','is_fibonacci','is_perfect']].apply(lambda row: class_mapping[tuple(row.astype(int))], axis=1) #This should remain the same, as cell count remains static   \n",
    "\n",
    "    end_time = time.time()\n",
    "    \n",
    "    # Calculate and print the time taken for each run\n",
    "    time_taken = end_time - start_time\n",
    "    classify_time.append(time_taken)\n",
    "    print(f'Run: Time taken - {time_taken} seconds')"
   ]
  },
  {
   "cell_type": "code",
   "execution_count": 12,
   "id": "66bf86c3-fd37-4f43-948f-de894034f864",
   "metadata": {},
   "outputs": [
    {
     "name": "stdout",
     "output_type": "stream",
     "text": [
      "Run: Time taken - 7.617931365966797 seconds\n",
      "Run: Time taken - 8.285682439804077 seconds\n",
      "Run: Time taken - 7.4368507862091064 seconds\n",
      "Run: Time taken - 7.760572671890259 seconds\n",
      "Run: Time taken - 7.720075845718384 seconds\n",
      "Run: Time taken - 8.587639331817627 seconds\n",
      "Run: Time taken - 9.120808601379395 seconds\n",
      "Run: Time taken - 9.041035413742065 seconds\n",
      "Run: Time taken - 8.256629943847656 seconds\n",
      "Run: Time taken - 9.2949800491333 seconds\n",
      "Run: Time taken - 8.959702253341675 seconds\n",
      "Run: Time taken - 9.10095763206482 seconds\n",
      "Run: Time taken - 9.10010051727295 seconds\n",
      "Run: Time taken - 9.061169624328613 seconds\n",
      "Run: Time taken - 9.138447046279907 seconds\n",
      "Run: Time taken - 9.663845777511597 seconds\n",
      "Run: Time taken - 9.906778812408447 seconds\n",
      "Run: Time taken - 9.699655294418335 seconds\n",
      "Run: Time taken - 9.670398235321045 seconds\n",
      "Run: Time taken - 10.27969241142273 seconds\n",
      "Run: Time taken - 9.94239854812622 seconds\n",
      "Run: Time taken - 9.610458612442017 seconds\n",
      "Run: Time taken - 10.07102370262146 seconds\n",
      "Run: Time taken - 9.466204404830933 seconds\n",
      "Run: Time taken - 10.376869440078735 seconds\n",
      "Run: Time taken - 11.226599931716919 seconds\n",
      "Run: Time taken - 10.464676856994629 seconds\n",
      "Run: Time taken - 9.423328161239624 seconds\n",
      "Run: Time taken - 8.680640459060669 seconds\n",
      "Run: Time taken - 8.322471380233765 seconds\n"
     ]
    },
    {
     "data": {
      "text/plain": [
       "275.3047806000104"
      ]
     },
     "execution_count": 12,
     "metadata": {},
     "output_type": "execute_result"
    }
   ],
   "source": [
    "timeit.timeit(lambda: classify_loop(), number=bench_runs) #Benchmark run for classifying"
   ]
  },
  {
   "cell_type": "markdown",
   "id": "f49eb829-b1eb-49b1-9f2b-0f9e9fd90030",
   "metadata": {},
   "source": [
    "Writing benchmark results"
   ]
  },
  {
   "cell_type": "code",
   "execution_count": 13,
   "id": "af0503d1-4dc6-4210-9806-634d3c31f35a",
   "metadata": {},
   "outputs": [],
   "source": [
    "with open(f'Vector_benchmark_{num_files_to_open}_layers.csv', 'w', newline='') as csvfile: #Writing benchmark results\n",
    "    writer = csv.writer(csvfile)\n",
    "    writer.writerow(['Run', 'Joining(s)','Classify(s)'])\n",
    "    for i, (join_taken, classify_taken) in enumerate(zip(joining_time, classify_time)):\n",
    "        writer.writerow([i+1, join_taken, classify_taken])"
   ]
  },
  {
   "cell_type": "markdown",
   "id": "6f7ef346-f94c-4488-9f22-c8f2f90a8605",
   "metadata": {},
   "source": [
    "Applying classification"
   ]
  },
  {
   "cell_type": "code",
   "execution_count": 14,
   "id": "ba76d575-3356-4143-b75e-3edc1b536a4d",
   "metadata": {},
   "outputs": [],
   "source": [
    "combined_df['class'] = combined_df[['is_prime','is_triangular','is_rectangular','is_pentagonal','is_hexagonal','is_fibonacci','is_perfect']].apply(lambda row: class_mapping[tuple(row.astype(int))], axis=1)\n",
    "combined_df=combined_df[['class','geometry']]"
   ]
  },
  {
   "cell_type": "code",
   "execution_count": 15,
   "id": "e7ed42ed-9bea-4a4c-97cc-d581b02013ca",
   "metadata": {},
   "outputs": [],
   "source": [
    "output_dir.mkdir(parents=True, exist_ok=True)\n",
    "output = (output_dir / f'Vector_{num_files_to_open}_layers.gpkg')\n",
    "# output.touch(exist_ok=True)\n",
    "combined_df.to_file(output, layer='benchmarking', driver='GPKG', mode='w')"
   ]
  },
  {
   "cell_type": "code",
   "execution_count": null,
   "id": "7929e6b9-f673-48db-a8dc-eae2ec729d63",
   "metadata": {},
   "outputs": [],
   "source": [
    "combined_df.plot('class', cmap='viridis')"
   ]
  }
 ],
 "metadata": {
  "kernelspec": {
   "display_name": "Python 3 (ipykernel)",
   "language": "python",
   "name": "python3"
  },
  "language_info": {
   "codemirror_mode": {
    "name": "ipython",
    "version": 3
   },
   "file_extension": ".py",
   "mimetype": "text/x-python",
   "name": "python",
   "nbconvert_exporter": "python",
   "pygments_lexer": "ipython3",
   "version": "3.11.6"
  }
 },
 "nbformat": 4,
 "nbformat_minor": 5
}
