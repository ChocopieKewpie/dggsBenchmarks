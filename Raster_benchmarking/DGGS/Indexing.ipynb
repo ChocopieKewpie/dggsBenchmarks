{
 "cells": [
  {
   "cell_type": "code",
   "execution_count": 1,
   "id": "4669a2a2-2a8c-4df1-8750-d501abfb38ef",
   "metadata": {},
   "outputs": [],
   "source": [
    "from numba import jit\n",
    "import rasterio\n",
    "from pathlib import Path\n",
    "import numpy as np\n",
    "import geopandas as gpd\n",
    "from shapely.geometry import Point\n",
    "import pandas as pd\n",
    "from concurrent.futures import ThreadPoolExecutor\n",
    "from joblib import Parallel, delayed"
   ]
  },
  {
   "cell_type": "code",
   "execution_count": 2,
   "id": "c8b9c9ea",
   "metadata": {},
   "outputs": [],
   "source": [
    "output_dir = Path('../data/output')\n",
    "output_dir.parents[0].mkdir(parents=True, exist_ok=True)\n",
    "discrete_dir = Path('../data/discrete')\n",
    "continuous_dir = Path('../data/continuous')\n",
    "\n",
    "N = None # None to do everything"
   ]
  },
  {
   "cell_type": "code",
   "execution_count": 3,
   "id": "7a9bf973",
   "metadata": {},
   "outputs": [],
   "source": [
    "def h3index_raster(file, output_dir, h3_res=12, stem=None, operation='max'):\n",
    "    import h3pandas # https://github.com/DahnJ/H3-Pandas/issues/27\n",
    "    with rasterio.open(file) as src:\n",
    "        array = src.read(1)\n",
    "        transform = src.transform\n",
    "    array[np.isnan(array)] = 0\n",
    "    height, width = array.shape\n",
    "    cols, rows = np.meshgrid(np.arange(width), np.arange(height), indexing='xy')\n",
    "    xs, ys = rasterio.transform.xy(transform, rows.flatten(), cols.flatten(), offset='center')\n",
    "    dstack = np.dstack((xs, ys))[0]\n",
    "    pts = [Point(*c) for c in dstack]\n",
    "    df = gpd.GeoDataFrame(zip(array.flatten(), pts), columns=['value','geometry'], crs='EPSG:2193')\n",
    "    df = df.to_crs(4326)\n",
    "    df = df.h3.geo_to_h3_aggregate(h3_res, operation=operation, return_geometry=False)\n",
    "    df.to_parquet(f'{output_dir}/{stem}_{file.stem}.parquet', index=f'h3_{h3_res}')"
   ]
  },
  {
   "cell_type": "code",
   "execution_count": 4,
   "id": "1ee657ca",
   "metadata": {},
   "outputs": [
    {
     "name": "stdout",
     "output_type": "stream",
     "text": [
      "CPU times: total: 15.6 ms\n",
      "Wall time: 2.15 s\n"
     ]
    }
   ],
   "source": [
    "%%time\n",
    "mode = lambda x: pd.Series.mode(x)[0]\n",
    "N= 10\n",
    "Parallel(n_jobs=-1)(delayed(h3index_raster)(file, output_dir, stem='discrete', operation=mode) for file in list(sorted(discrete_dir.glob('*.asc')))[:N])\n",
    "pass"
   ]
  },
  {
   "cell_type": "code",
   "execution_count": 5,
   "id": "0ba3e000-070b-4c5e-a98b-1d73f5e6d963",
   "metadata": {},
   "outputs": [
    {
     "name": "stdout",
     "output_type": "stream",
     "text": [
      "CPU times: total: 219 ms\n",
      "Wall time: 6.08 s\n"
     ]
    }
   ],
   "source": [
    "%%time\n",
    "mode = lambda x: pd.Series.mode(x)[0]\n",
    "N= 100\n",
    "Parallel(n_jobs=-1)(delayed(h3index_raster)(file, output_dir, stem='discrete', operation=mode) for file in list(sorted(discrete_dir.glob('*.asc')))[:N])\n",
    "pass"
   ]
  },
  {
   "cell_type": "code",
   "execution_count": 6,
   "id": "9b09d78b",
   "metadata": {},
   "outputs": [
    {
     "name": "stdout",
     "output_type": "stream",
     "text": [
      "CPU times: total: 2.78 s\n",
      "Wall time: 53.2 s\n"
     ]
    }
   ],
   "source": [
    "%%time\n",
    "mode = lambda x: pd.Series.mode(x)[0]\n",
    "N= 1000\n",
    "Parallel(n_jobs=-1)(delayed(h3index_raster)(file, output_dir, stem='discrete', operation=mode) for file in list(sorted(discrete_dir.glob('*.asc')))[:N])\n",
    "pass"
   ]
  },
  {
   "cell_type": "code",
   "execution_count": 7,
   "id": "6a4e0a0b",
   "metadata": {},
   "outputs": [
    {
     "name": "stdout",
     "output_type": "stream",
     "text": [
      "CPU times: total: 25.2 s\n",
      "Wall time: 7min 56s\n"
     ]
    }
   ],
   "source": [
    "%%time\n",
    "mode = lambda x: pd.Series.mode(x)[0]\n",
    "N= 10000\n",
    "Parallel(n_jobs=-1)(delayed(h3index_raster)(file, output_dir, stem='discrete', operation=mode) for file in list(sorted(discrete_dir.glob('*.asc')))[:N])\n",
    "pass"
   ]
  },
  {
   "cell_type": "code",
   "execution_count": 8,
   "id": "e4ffb045",
   "metadata": {},
   "outputs": [
    {
     "name": "stdout",
     "output_type": "stream",
     "text": [
      "CPU times: total: 0 ns\n",
      "Wall time: 414 ms\n"
     ]
    }
   ],
   "source": [
    "%%time\n",
    "mode = lambda x: pd.Series.mode(x)[0]\n",
    "N= 10\n",
    "Parallel(n_jobs=-1)(delayed(h3index_raster)(file, output_dir, stem='continuous', operation='mean') for file in list(sorted(continuous_dir.glob('*.asc')))[:N])\n",
    "pass"
   ]
  },
  {
   "cell_type": "code",
   "execution_count": 9,
   "id": "0a86a378",
   "metadata": {},
   "outputs": [
    {
     "name": "stdout",
     "output_type": "stream",
     "text": [
      "CPU times: total: 188 ms\n",
      "Wall time: 2.45 s\n"
     ]
    }
   ],
   "source": [
    "%%time\n",
    "mode = lambda x: pd.Series.mode(x)[0]\n",
    "N= 100\n",
    "Parallel(n_jobs=-1)(delayed(h3index_raster)(file, output_dir, stem='continuous', operation='mean') for file in list(sorted(continuous_dir.glob('*.asc')))[:N])\n",
    "pass"
   ]
  },
  {
   "cell_type": "code",
   "execution_count": 10,
   "id": "334e855f",
   "metadata": {},
   "outputs": [
    {
     "name": "stdout",
     "output_type": "stream",
     "text": [
      "CPU times: total: 1.53 s\n",
      "Wall time: 21.5 s\n"
     ]
    }
   ],
   "source": [
    "%%time\n",
    "mode = lambda x: pd.Series.mode(x)[0]\n",
    "N= 1000\n",
    "Parallel(n_jobs=-1)(delayed(h3index_raster)(file, output_dir, stem='continuous', operation='mean') for file in list(sorted(continuous_dir.glob('*.asc')))[:N])\n",
    "pass"
   ]
  },
  {
   "cell_type": "code",
   "execution_count": 11,
   "id": "bc77180b",
   "metadata": {},
   "outputs": [
    {
     "name": "stdout",
     "output_type": "stream",
     "text": [
      "CPU times: total: 19 s\n",
      "Wall time: 3min 49s\n"
     ]
    }
   ],
   "source": [
    "%%time\n",
    "mode = lambda x: pd.Series.mode(x)[0]\n",
    "N= 10000\n",
    "Parallel(n_jobs=-1)(delayed(h3index_raster)(file, output_dir, stem='continuous', operation='mean') for file in list(sorted(continuous_dir.glob('*.asc')))[:N])\n",
    "pass"
   ]
  }
 ],
 "metadata": {
  "kernelspec": {
   "display_name": "Python 3 (ipykernel)",
   "language": "python",
   "name": "python3"
  },
  "language_info": {
   "codemirror_mode": {
    "name": "ipython",
    "version": 3
   },
   "file_extension": ".py",
   "mimetype": "text/x-python",
   "name": "python",
   "nbconvert_exporter": "python",
   "pygments_lexer": "ipython3",
   "version": "3.11.9"
  }
 },
 "nbformat": 4,
 "nbformat_minor": 5
}
