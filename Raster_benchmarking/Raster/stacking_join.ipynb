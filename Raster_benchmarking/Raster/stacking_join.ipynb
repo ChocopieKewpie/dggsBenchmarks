{
 "cells": [
  {
   "cell_type": "code",
   "execution_count": 1,
   "metadata": {},
   "outputs": [],
   "source": [
    "import rasterio\n",
    "from rasterio.enums import Resampling\n",
    "from rasterio.dtypes import uint8, float64\n",
    "from pathlib import Path\n",
    "import numpy as np\n",
    "from rasterio.crs import CRS"
   ]
  },
  {
   "cell_type": "code",
   "execution_count": 2,
   "metadata": {},
   "outputs": [
    {
     "name": "stdout",
     "output_type": "stream",
     "text": [
      "CPU times: total: 0 ns\n",
      "Wall time: 7.65 ms\n"
     ]
    }
   ],
   "source": [
    "%%time\n",
    "import rasterio.warp\n",
    "\n",
    "EPSG2193 = CRS.from_epsg(2193)"
   ]
  },
  {
   "cell_type": "code",
   "execution_count": 3,
   "metadata": {},
   "outputs": [],
   "source": [
    "def align(output, files, profile, transform, nodata=0, dtype=uint8,resampling=Resampling.bilinear):\n",
    "    with rasterio.open(output, 'w', **profile) as dst:\n",
    "        for band, f in enumerate(files):\n",
    "            with rasterio.open(f, 'r') as src:\n",
    "                data, transform = rasterio.warp.reproject(\n",
    "                    source=src.read(1),\n",
    "                    destination=np.zeros((1, 100, 100), dtype),\n",
    "                    src_transform=src.transform,\n",
    "                    dst_transform=transform,\n",
    "                    src_crs=EPSG2193,\n",
    "                    dst_crs=EPSG2193,\n",
    "                    dst_nodata=nodata,\n",
    "                    resampling=resampling\n",
    "                )\n",
    "                dst.write(data[0], band+1)"
   ]
  },
  {
   "cell_type": "code",
   "execution_count": 4,
   "metadata": {},
   "outputs": [
    {
     "name": "stdout",
     "output_type": "stream",
     "text": [
      "CPU times: total: 203 ms\n",
      "Wall time: 650 ms\n"
     ]
    }
   ],
   "source": [
    "%%time\n",
    "discrete_files = list(sorted(Path('discrete').glob('*.asc')))\n",
    "\n",
    "discrete_files = discrete_files[:10]\n",
    "\n",
    "# Take the first raster as a template\n",
    "with rasterio.open(discrete_files[0], 'r') as src:\n",
    "    src_transform = src.transform\n",
    "    src_profile = src.profile\n",
    "\n",
    "src_profile.update(driver='GTiff') # Upgrade from ASC to GeoTIFF\n",
    "src_profile.update(crs=EPSG2193) # Declare (missing) EPSG\n",
    "\n",
    "src_profile.update(count=len(discrete_files)) # Make room for all bands\n",
    "align(\n",
    "    Path('discrete.tif'),\n",
    "    discrete_files,\n",
    "    src_profile,\n",
    "    src_transform,\n",
    "    nodata=np.iinfo(uint8).max,\n",
    "    dtype=uint8,\n",
    "    resampling=Resampling.nearest\n",
    ")"
   ]
  },
  {
   "cell_type": "code",
   "execution_count": 5,
   "metadata": {},
   "outputs": [
    {
     "name": "stdout",
     "output_type": "stream",
     "text": [
      "CPU times: total: 891 ms\n",
      "Wall time: 4.86 s\n"
     ]
    }
   ],
   "source": [
    "%%time\n",
    "discrete_files = list(sorted(Path('discrete').glob('*.asc')))\n",
    "\n",
    "discrete_files = discrete_files[:100]\n",
    "\n",
    "# Take the first raster as a template\n",
    "with rasterio.open(discrete_files[0], 'r') as src:\n",
    "    src_transform = src.transform\n",
    "    src_profile = src.profile\n",
    "\n",
    "src_profile.update(driver='GTiff') # Upgrade from ASC to GeoTIFF\n",
    "src_profile.update(crs=EPSG2193) # Declare (missing) EPSG\n",
    "\n",
    "src_profile.update(count=len(discrete_files)) # Make room for all bands\n",
    "align(\n",
    "    Path('discrete.tif'),\n",
    "    discrete_files,\n",
    "    src_profile,\n",
    "    src_transform,\n",
    "    nodata=np.iinfo(uint8).max,\n",
    "    dtype=uint8,\n",
    "    resampling=Resampling.nearest\n",
    ")"
   ]
  },
  {
   "cell_type": "code",
   "execution_count": 6,
   "metadata": {},
   "outputs": [
    {
     "name": "stdout",
     "output_type": "stream",
     "text": [
      "CPU times: total: 6.94 s\n",
      "Wall time: 45.3 s\n"
     ]
    }
   ],
   "source": [
    "%%time\n",
    "discrete_files = list(sorted(Path('discrete').glob('*.asc')))\n",
    "\n",
    "discrete_files = discrete_files[:1000]\n",
    "\n",
    "# Take the first raster as a template\n",
    "with rasterio.open(discrete_files[0], 'r') as src:\n",
    "    src_transform = src.transform\n",
    "    src_profile = src.profile\n",
    "\n",
    "src_profile.update(driver='GTiff') # Upgrade from ASC to GeoTIFF\n",
    "src_profile.update(crs=EPSG2193) # Declare (missing) EPSG\n",
    "\n",
    "src_profile.update(count=len(discrete_files)) # Make room for all bands\n",
    "align(\n",
    "    Path('discrete.tif'),\n",
    "    discrete_files,\n",
    "    src_profile,\n",
    "    src_transform,\n",
    "    nodata=np.iinfo(uint8).max,\n",
    "    dtype=uint8,\n",
    "    resampling=Resampling.nearest\n",
    ")"
   ]
  },
  {
   "cell_type": "code",
   "execution_count": 12,
   "metadata": {},
   "outputs": [
    {
     "name": "stdout",
     "output_type": "stream",
     "text": [
      "CPU times: total: 1min 6s\n",
      "Wall time: 7min 17s\n"
     ]
    }
   ],
   "source": [
    "%%time\n",
    "discrete_files = list(sorted(Path('discrete').glob('*.asc')))\n",
    "\n",
    "discrete_files = discrete_files[:10000]\n",
    "\n",
    "# Take the first raster as a template\n",
    "with rasterio.open(discrete_files[0], 'r') as src:\n",
    "    src_transform = src.transform\n",
    "    src_profile = src.profile\n",
    "\n",
    "src_profile.update(driver='GTiff') # Upgrade from ASC to GeoTIFF\n",
    "src_profile.update(crs=EPSG2193) # Declare (missing) EPSG\n",
    "\n",
    "src_profile.update(count=len(discrete_files)) # Make room for all bands\n",
    "align(\n",
    "    Path('discrete.tif'),\n",
    "    discrete_files,\n",
    "    src_profile,\n",
    "    src_transform,\n",
    "    nodata=np.iinfo(uint8).max,\n",
    "    dtype=uint8,\n",
    "    resampling=Resampling.nearest\n",
    ")"
   ]
  },
  {
   "cell_type": "code",
   "execution_count": 8,
   "metadata": {},
   "outputs": [
    {
     "name": "stdout",
     "output_type": "stream",
     "text": [
      "CPU times: total: 156 ms\n",
      "Wall time: 810 ms\n"
     ]
    }
   ],
   "source": [
    "%%time\n",
    "continuous_files = list(sorted(Path('continuous').glob('*.asc')))\n",
    "\n",
    "continuous_files= continuous_files[:10]\n",
    "\n",
    "# Take the first raster as a template\n",
    "with rasterio.open(continuous_files[0], 'r') as src:\n",
    "    src_transform = src.transform\n",
    "    src_profile = src.profile\n",
    "\n",
    "src_profile.update(driver='GTiff') # Upgrade from ASC to GeoTIFF\n",
    "src_profile.update(crs=EPSG2193) # Declare (missing) EPSG\n",
    "\n",
    "src_profile.update(dtype=float64)\n",
    "src_profile.update(count=len(continuous_files)) # Make room for all bands\n",
    "align(\n",
    "    Path('continuous.tif'),\n",
    "    continuous_files,\n",
    "    src_profile,\n",
    "    src_transform,\n",
    "    nodata=np.finfo(float64).max,\n",
    "    dtype=float64\n",
    ")"
   ]
  },
  {
   "cell_type": "code",
   "execution_count": 9,
   "metadata": {},
   "outputs": [
    {
     "name": "stdout",
     "output_type": "stream",
     "text": [
      "CPU times: total: 1.31 s\n",
      "Wall time: 5.49 s\n"
     ]
    }
   ],
   "source": [
    "%%time\n",
    "continuous_files = list(sorted(Path('continuous').glob('*.asc')))\n",
    "\n",
    "continuous_files= continuous_files[:100]\n",
    "\n",
    "# Take the first raster as a template\n",
    "with rasterio.open(continuous_files[0], 'r') as src:\n",
    "    src_transform = src.transform\n",
    "    src_profile = src.profile\n",
    "\n",
    "src_profile.update(driver='GTiff') # Upgrade from ASC to GeoTIFF\n",
    "src_profile.update(crs=EPSG2193) # Declare (missing) EPSG\n",
    "\n",
    "src_profile.update(dtype=float64)\n",
    "src_profile.update(count=len(continuous_files)) # Make room for all bands\n",
    "align(\n",
    "    Path('continuous.tif'),\n",
    "    continuous_files,\n",
    "    src_profile,\n",
    "    src_transform,\n",
    "    nodata=np.finfo(float64).max,\n",
    "    dtype=float64\n",
    ")"
   ]
  },
  {
   "cell_type": "code",
   "execution_count": 10,
   "metadata": {},
   "outputs": [
    {
     "name": "stdout",
     "output_type": "stream",
     "text": [
      "CPU times: total: 10.8 s\n",
      "Wall time: 54.2 s\n"
     ]
    }
   ],
   "source": [
    "%%time\n",
    "continuous_files = list(sorted(Path('continuous').glob('*.asc')))\n",
    "\n",
    "continuous_files= continuous_files[:1000]\n",
    "\n",
    "# Take the first raster as a template\n",
    "with rasterio.open(continuous_files[0], 'r') as src:\n",
    "    src_transform = src.transform\n",
    "    src_profile = src.profile\n",
    "\n",
    "src_profile.update(driver='GTiff') # Upgrade from ASC to GeoTIFF\n",
    "src_profile.update(crs=EPSG2193) # Declare (missing) EPSG\n",
    "\n",
    "src_profile.update(dtype=float64)\n",
    "src_profile.update(count=len(continuous_files)) # Make room for all bands\n",
    "align(\n",
    "    Path('continuous.tif'),\n",
    "    continuous_files,\n",
    "    src_profile,\n",
    "    src_transform,\n",
    "    nodata=np.finfo(float64).max,\n",
    "    dtype=float64\n",
    ")"
   ]
  },
  {
   "cell_type": "code",
   "execution_count": 11,
   "metadata": {},
   "outputs": [
    {
     "name": "stdout",
     "output_type": "stream",
     "text": [
      "CPU times: total: 1min 21s\n",
      "Wall time: 8min 44s\n"
     ]
    }
   ],
   "source": [
    "%%time\n",
    "continuous_files = list(sorted(Path('continuous').glob('*.asc')))\n",
    "\n",
    "continuous_files= continuous_files[:10000]\n",
    "\n",
    "# Take the first raster as a template\n",
    "with rasterio.open(continuous_files[0], 'r') as src:\n",
    "    src_transform = src.transform\n",
    "    src_profile = src.profile\n",
    "\n",
    "src_profile.update(driver='GTiff') # Upgrade from ASC to GeoTIFF\n",
    "src_profile.update(crs=EPSG2193) # Declare (missing) EPSG\n",
    "\n",
    "src_profile.update(dtype=float64)\n",
    "src_profile.update(count=len(continuous_files)) # Make room for all bands\n",
    "align(\n",
    "    Path('continuous.tif'),\n",
    "    continuous_files,\n",
    "    src_profile,\n",
    "    src_transform,\n",
    "    nodata=np.finfo(float64).max,\n",
    "    dtype=float64\n",
    ")"
   ]
  }
 ],
 "metadata": {
  "kernelspec": {
   "display_name": "Python 3 (ipykernel)",
   "language": "python",
   "name": "python3"
  },
  "language_info": {
   "codemirror_mode": {
    "name": "ipython",
    "version": 3
   },
   "file_extension": ".py",
   "mimetype": "text/x-python",
   "name": "python",
   "nbconvert_exporter": "python",
   "pygments_lexer": "ipython3",
   "version": "3.11.7"
  }
 },
 "nbformat": 4,
 "nbformat_minor": 4
}
