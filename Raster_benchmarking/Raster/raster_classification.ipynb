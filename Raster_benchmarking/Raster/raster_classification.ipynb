{
 "cells": [
  {
   "cell_type": "code",
   "execution_count": 1,
   "id": "bdc25faa-5ee7-45a6-9cd4-608fe4152029",
   "metadata": {},
   "outputs": [],
   "source": [
    "import numpy as np\n",
    "import math\n",
    "from pathlib import Path\n",
    "\n",
    "import rasterio\n",
    "from rasterio.plot import show_hist\n",
    "from rasterio.dtypes import int16"
   ]
  },
  {
   "cell_type": "code",
   "execution_count": 2,
   "id": "cf991843-a351-4d8f-a9ba-92864f4a313c",
   "metadata": {},
   "outputs": [],
   "source": [
    "@np.vectorize\n",
    "def is_prime(n):\n",
    "    if n % 2 == 0 and n > 2:\n",
    "        return False\n",
    "    return all(n % i for i in range(3, int(np.sqrt(n)) + 1, 2))\n",
    "\n",
    "@np.vectorize\n",
    "def is_polygonal(s, x):\n",
    "    assert s > 2 and s % 1 == 0 and x % 1 == 0\n",
    "    n = (np.sqrt(8 * (s - 2) * x + (s - 4) ** 2) + (s - 4)) / (2 * (s - 2))\n",
    "    return n % 1 == 0\n",
    "\n",
    "@np.vectorize\n",
    "def is_fibonacci(n):\n",
    "    a, b = 0,1\n",
    "    while a < n:\n",
    "        a, b = b, a + b\n",
    "    return a == n\n",
    "\n",
    "@np.vectorize\n",
    "def is_perfect(n):\n",
    "    sum = 1\n",
    "    i = 2\n",
    "    while i * i <= n:\n",
    "        if n % i == 0:\n",
    "            sum = sum + i + n/i\n",
    "        i += 1\n",
    "    return sum == n and n != 1\n",
    "\n",
    "def is_triangular(n):\n",
    "    return is_polygonal(3, n)\n",
    "    \n",
    "def is_rectangular(n):\n",
    "    return is_polygonal(4, n)\n",
    "\n",
    "def is_pentagonal(n):\n",
    "    return is_polygonal(5, n)\n",
    "\n",
    "def is_hexagonal(n):\n",
    "    return is_polygonal(6, n)\n",
    "\n",
    "# Calculate whether each value in each band satisfies a function\n",
    "# Then count the number of times it satisfies the function, and write that out\n",
    "\n",
    "funcs = [\n",
    "    is_prime,\n",
    "    is_triangular, is_rectangular, is_pentagonal, is_hexagonal,\n",
    "    is_fibonacci,\n",
    "    is_perfect\n",
    "]\n",
    "\n",
    "def compute(input_file, dtype=int16, scale=100, band_limit=None):\n",
    "    with rasterio.open(input_file, 'r') as src:\n",
    "        shape = (src.indexes[-1], *src.shape)\n",
    "        for func in funcs:\n",
    "            src_profile = src.profile.copy()\n",
    "            output = np.zeros(shape, dtype)\n",
    "            for band in src.indexes[:band_limit]:\n",
    "                data = src.read(band)\n",
    "                data *= scale\n",
    "                output[band-1] = func(data.astype(dtype))\n",
    "    \n",
    "            src_profile.update(count=1)\n",
    "            src_profile.update(dtype=dtype)\n",
    "            count_satisfaction = np.apply_along_axis(np.sum, 0, output)\n",
    "            with rasterio.open(Path(f'./{input_file.stem}-{func.__name__}-{(band_limit or len(src.indexes))}.tif'), 'w', **src_profile) as dst:\n",
    "                dst.write(count_satisfaction, 1)"
   ]
  },
  {
   "cell_type": "code",
   "execution_count": 3,
   "id": "efdd4988-9774-45ba-a303-c846a9375921",
   "metadata": {},
   "outputs": [
    {
     "name": "stderr",
     "output_type": "stream",
     "text": [
      "C:\\Users\\Tigeir\\AppData\\Local\\Temp\\ipykernel_24164\\2840232669.py:60: RuntimeWarning: overflow encountered in multiply\n",
      "  data *= scale\n",
      "C:\\Users\\Tigeir\\AppData\\Local\\Temp\\ipykernel_24164\\2840232669.py:61: RuntimeWarning: invalid value encountered in cast\n",
      "  output[band-1] = func(data.astype(dtype))\n"
     ]
    },
    {
     "name": "stdout",
     "output_type": "stream",
     "text": [
      "CPU times: total: 2.16 s\n",
      "Wall time: 9.52 s\n"
     ]
    }
   ],
   "source": [
    "%%time\n",
    "compute(Path('./continuous.tif'), band_limit=10)"
   ]
  },
  {
   "cell_type": "code",
   "execution_count": 4,
   "id": "394b7445-fca3-4b2e-8a1a-fcba4e9bac1c",
   "metadata": {},
   "outputs": [
    {
     "name": "stderr",
     "output_type": "stream",
     "text": [
      "C:\\Users\\Tigeir\\AppData\\Local\\Temp\\ipykernel_24164\\2840232669.py:60: RuntimeWarning: overflow encountered in multiply\n",
      "  data *= scale\n",
      "C:\\Users\\Tigeir\\AppData\\Local\\Temp\\ipykernel_24164\\2840232669.py:61: RuntimeWarning: invalid value encountered in cast\n",
      "  output[band-1] = func(data.astype(dtype))\n"
     ]
    },
    {
     "name": "stdout",
     "output_type": "stream",
     "text": [
      "CPU times: total: 4.14 s\n",
      "Wall time: 34.4 s\n"
     ]
    }
   ],
   "source": [
    "%%time\n",
    "compute(Path('./continuous.tif'), band_limit=100)"
   ]
  },
  {
   "cell_type": "code",
   "execution_count": 5,
   "id": "6727ff73-4bf0-4b87-a1bc-7045bda8dfef",
   "metadata": {},
   "outputs": [
    {
     "name": "stderr",
     "output_type": "stream",
     "text": [
      "C:\\Users\\Tigeir\\AppData\\Local\\Temp\\ipykernel_24164\\2840232669.py:60: RuntimeWarning: overflow encountered in multiply\n",
      "  data *= scale\n",
      "C:\\Users\\Tigeir\\AppData\\Local\\Temp\\ipykernel_24164\\2840232669.py:61: RuntimeWarning: invalid value encountered in cast\n",
      "  output[band-1] = func(data.astype(dtype))\n"
     ]
    },
    {
     "name": "stdout",
     "output_type": "stream",
     "text": [
      "CPU times: total: 48.2 s\n",
      "Wall time: 4min 49s\n"
     ]
    }
   ],
   "source": [
    "%%time\n",
    "compute(Path('./continuous.tif'), band_limit=1000)"
   ]
  },
  {
   "cell_type": "code",
   "execution_count": 6,
   "id": "d702eb62-ce16-4342-b41d-1350dae9d5cc",
   "metadata": {},
   "outputs": [
    {
     "name": "stderr",
     "output_type": "stream",
     "text": [
      "C:\\Users\\Tigeir\\AppData\\Local\\Temp\\ipykernel_24164\\2840232669.py:60: RuntimeWarning: overflow encountered in multiply\n",
      "  data *= scale\n",
      "C:\\Users\\Tigeir\\AppData\\Local\\Temp\\ipykernel_24164\\2840232669.py:61: RuntimeWarning: invalid value encountered in cast\n",
      "  output[band-1] = func(data.astype(dtype))\n"
     ]
    },
    {
     "name": "stdout",
     "output_type": "stream",
     "text": [
      "CPU times: total: 7min 46s\n",
      "Wall time: 48min 56s\n"
     ]
    }
   ],
   "source": [
    "%%time\n",
    "compute(Path('./continuous.tif'), band_limit=10000)"
   ]
  },
  {
   "cell_type": "code",
   "execution_count": 7,
   "id": "e7e8f41e-7a47-41c1-bcd4-6c3d6118e1b2",
   "metadata": {},
   "outputs": [
    {
     "name": "stdout",
     "output_type": "stream",
     "text": [
      "CPU times: total: 1.25 s\n",
      "Wall time: 8.73 s\n"
     ]
    }
   ],
   "source": [
    "%%time\n",
    "compute(Path('./discrete.tif'), scale=1, band_limit=10)"
   ]
  },
  {
   "cell_type": "code",
   "execution_count": 8,
   "id": "131ef560-e9ec-4452-8540-812c0ba50f4b",
   "metadata": {},
   "outputs": [
    {
     "name": "stdout",
     "output_type": "stream",
     "text": [
      "CPU times: total: 3 s\n",
      "Wall time: 30.5 s\n"
     ]
    }
   ],
   "source": [
    "%%time\n",
    "compute(Path('./discrete.tif'), scale=1, band_limit=100)"
   ]
  },
  {
   "cell_type": "code",
   "execution_count": 9,
   "id": "f2a0ab35-a6ad-4f16-9482-8e464688856d",
   "metadata": {},
   "outputs": [
    {
     "name": "stdout",
     "output_type": "stream",
     "text": [
      "CPU times: total: 22.7 s\n",
      "Wall time: 4min 8s\n"
     ]
    }
   ],
   "source": [
    "%%time\n",
    "compute(Path('./discrete.tif'), scale=1, band_limit=1000)"
   ]
  },
  {
   "cell_type": "code",
   "execution_count": 10,
   "id": "fdad7e76-0cd5-416a-8da2-8ea795ab3d44",
   "metadata": {},
   "outputs": [
    {
     "name": "stdout",
     "output_type": "stream",
     "text": [
      "CPU times: total: 4min 19s\n",
      "Wall time: 41min 46s\n"
     ]
    }
   ],
   "source": [
    "%%time\n",
    "compute(Path('./discrete.tif'), scale=1, band_limit=10000)"
   ]
  }
 ],
 "metadata": {
  "kernelspec": {
   "display_name": "Python 3 (ipykernel)",
   "language": "python",
   "name": "python3"
  },
  "language_info": {
   "codemirror_mode": {
    "name": "ipython",
    "version": 3
   },
   "file_extension": ".py",
   "mimetype": "text/x-python",
   "name": "python",
   "nbconvert_exporter": "python",
   "pygments_lexer": "ipython3",
   "version": "3.11.7"
  }
 },
 "nbformat": 4,
 "nbformat_minor": 5
}
