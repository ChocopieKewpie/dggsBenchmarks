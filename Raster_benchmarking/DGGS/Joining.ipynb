{
 "cells": [
  {
   "cell_type": "code",
   "execution_count": 1,
   "id": "a6127309-a496-40f3-b9cc-b0cc0d978807",
   "metadata": {},
   "outputs": [],
   "source": [
    "from pathlib import Path\n",
    "import geopandas as gpd\n",
    "import pandas as pd\n",
    "import h3pandas"
   ]
  },
  {
   "cell_type": "code",
   "execution_count": 2,
   "id": "0695e609-1c0c-43d9-b6d1-f8231e07f4c1",
   "metadata": {},
   "outputs": [],
   "source": [
    "input_dir = Path('combined_h3')\n",
    "output_dir = Path.cwd()\n",
    "\n",
    "# Get a list of all GPKG files in the folder\n",
    "d_files = list(sorted(input_dir.glob('discrete*.parquet')))\n",
    "c_files = list(sorted(input_dir.glob('continuous*.parquet')))"
   ]
  },
  {
   "cell_type": "code",
   "execution_count": 3,
   "id": "7abfae36-2c95-4a5d-b0a1-96ba200e2cc2",
   "metadata": {},
   "outputs": [],
   "source": [
    "combined_list = d_files + c_files\n",
    "combined_list = sorted(combined_list, key=lambda x: int(x.stem.split('-')[-1]))"
   ]
  },
  {
   "cell_type": "code",
   "execution_count": 4,
   "id": "473e16e6-b0de-441b-a4b4-b03d3f407c4f",
   "metadata": {},
   "outputs": [],
   "source": [
    "num_files_to_open = 1000  #Layers to join"
   ]
  },
  {
   "cell_type": "code",
   "execution_count": 5,
   "id": "6dbf4ae7-0c81-4bca-9f0d-64483374a25f",
   "metadata": {},
   "outputs": [
    {
     "name": "stdout",
     "output_type": "stream",
     "text": [
      "CPU times: total: 1.75 s\n",
      "Wall time: 12 s\n"
     ]
    }
   ],
   "source": [
    "%%time\n",
    "for i, file in enumerate(combined_list[:num_files_to_open]):\n",
    "        col_name = file.stem  # Extracting the column name from the file name\n",
    "        df = pd.read_parquet(file).drop(columns=['geometry'])\n",
    "    \n",
    "        #This is classifying the continuous raster into 10 quantile classes\n",
    "        if (i % 2) == 0:\n",
    "            pass\n",
    "        else:\n",
    "            df['Value'] = pd.qcut(df['Value'], q=10, labels=False)\n",
    "            \n",
    "        df.columns = [col_name, *df.columns[1:]]\n",
    "        if i == 0:\n",
    "            combined_df = df.copy()\n",
    "        else:\n",
    "            combined_df = combined_df.join(df)\n",
    "        "
   ]
  },
  {
   "cell_type": "code",
   "execution_count": 6,
   "id": "1addbc31-e577-44b7-bc50-0612ac617585",
   "metadata": {},
   "outputs": [],
   "source": [
    "h3_df=combined_df.h3.h3_to_geo_boundary() "
   ]
  },
  {
   "cell_type": "code",
   "execution_count": 7,
   "id": "b76a8fb8-1263-4ccc-b3b6-e72659a1fff2",
   "metadata": {},
   "outputs": [],
   "source": [
    "h3_df.to_file('raster_combined.gpkg', driver='GPKG', mode='w')"
   ]
  },
  {
   "cell_type": "code",
   "execution_count": null,
   "id": "bceabd7b-ea27-496b-8345-397f6157b376",
   "metadata": {},
   "outputs": [],
   "source": []
  }
 ],
 "metadata": {
  "kernelspec": {
   "display_name": "Python 3 (ipykernel)",
   "language": "python",
   "name": "python3"
  },
  "language_info": {
   "codemirror_mode": {
    "name": "ipython",
    "version": 3
   },
   "file_extension": ".py",
   "mimetype": "text/x-python",
   "name": "python",
   "nbconvert_exporter": "python",
   "pygments_lexer": "ipython3",
   "version": "3.11.7"
  }
 },
 "nbformat": 4,
 "nbformat_minor": 5
}
