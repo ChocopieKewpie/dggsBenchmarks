{
 "cells": [
  {
   "cell_type": "code",
   "execution_count": 1,
   "id": "29372051-18f4-41c4-a32d-df5955aa7355",
   "metadata": {},
   "outputs": [],
   "source": [
    "from functools import partial\n",
    "from math import sqrt\n",
    "from pathlib import Path\n",
    "import geopandas as gpd\n",
    "from itertools import product\n",
    "import time\n",
    "import timeit\n",
    "import csv"
   ]
  },
  {
   "cell_type": "code",
   "execution_count": 2,
   "id": "a9c22b4d-6a20-41a1-abc4-07f32be86c0a",
   "metadata": {},
   "outputs": [],
   "source": [
    "input_dir = Path('vector_1000')\n",
    "output_dir = Path.cwd()\n",
    "\n",
    "# Get a list of all GPKG files in the folder\n",
    "v_files = list(sorted(input_dir.glob('*.gpkg')))"
   ]
  },
  {
   "cell_type": "code",
   "execution_count": 3,
   "id": "5876bb58-8931-4eca-843c-532286f711e9",
   "metadata": {},
   "outputs": [],
   "source": [
    "# Specify the number of files to open\n",
    "num_files_to_open = 2\n",
    "bench_runs=30  #Benchmark runs, should probably do 30 "
   ]
  },
  {
   "cell_type": "code",
   "execution_count": 4,
   "id": "e7aa071d-45b7-40c8-b650-361e45f408dd",
   "metadata": {},
   "outputs": [],
   "source": [
    "# Loop through each GPKG file and join\n",
    "for i, file in enumerate(v_files[:num_files_to_open]):\n",
    "    col_name = file.stem.split('_')[1]  # Extracting the column name from the file name\n",
    "    df = gpd.read_file(file)\n",
    "    df.columns = [col_name, *df.columns[1:]] #Setting the column to the file\n",
    "    if i == 0:\n",
    "        combined_df = df.copy()\n",
    "    else:\n",
    "        combined_df = gpd.overlay(combined_df, df)"
   ]
  },
  {
   "cell_type": "markdown",
   "id": "23982ded-3b22-44a1-8db9-7c74b7f0a99b",
   "metadata": {},
   "source": [
    "Benchmarking for joining"
   ]
  },
  {
   "cell_type": "code",
   "execution_count": 5,
   "id": "7b5205bd-2088-4cab-b12b-bb9512e6fe75",
   "metadata": {},
   "outputs": [],
   "source": [
    "joining_time = []\n",
    "def run_loop(num_files_to_open, v_files):\n",
    "    \n",
    "    join_time= []\n",
    "    start_time = time.time()\n",
    "    for i, file in enumerate(v_files[:num_files_to_open]):\n",
    "        col_name = file.stem.split('_')[1]  # Extracting the column name from the file name\n",
    "        df = gpd.read_file(file)\n",
    "        df.columns = [col_name, *df.columns[1:]] #Setting the column to the file\n",
    "\n",
    "        #Joining benchmark\n",
    "        join_Stime=time.time()\n",
    "        if i == 0:\n",
    "            combined_df = df.copy()\n",
    "        else:\n",
    "            combined_df = gpd.overlay(combined_df, df) \n",
    "        join_Etime=time.time()\n",
    "        join_Ftime = join_Etime - join_Stime\n",
    "        join_time.append(join_Ftime)\n",
    "        \n",
    "    end_time = time.time()\n",
    "    \n",
    "    # Calculate and print the time taken for each run\n",
    "    time_taken = end_time - start_time\n",
    "    joining_time.append(sum(join_time))\n",
    "    print(f'Run: Joining time- {sum(join_time)} , Total Time taken - {time_taken} seconds')"
   ]
  },
  {
   "cell_type": "code",
   "execution_count": 6,
   "id": "cf0c8d91-eca8-4e3b-88b3-c274c864c54f",
   "metadata": {},
   "outputs": [
    {
     "name": "stdout",
     "output_type": "stream",
     "text": [
      "Run: Joining time- 0.027062654495239258 , Total Time taken - 0.05034041404724121 seconds\n",
      "Run: Joining time- 0.012717962265014648 , Total Time taken - 0.03533434867858887 seconds\n",
      "Run: Joining time- 0.026841163635253906 , Total Time taken - 0.04756951332092285 seconds\n",
      "Run: Joining time- 0.02414870262145996 , Total Time taken - 0.045622825622558594 seconds\n",
      "Run: Joining time- 0.02875494956970215 , Total Time taken - 0.051259517669677734 seconds\n",
      "Run: Joining time- 0.018994808197021484 , Total Time taken - 0.03804469108581543 seconds\n",
      "Run: Joining time- 0.014481782913208008 , Total Time taken - 0.050843000411987305 seconds\n",
      "Run: Joining time- 0.015742778778076172 , Total Time taken - 0.032694339752197266 seconds\n",
      "Run: Joining time- 0.020487546920776367 , Total Time taken - 0.039612531661987305 seconds\n",
      "Run: Joining time- 0.01091146469116211 , Total Time taken - 0.03127026557922363 seconds\n",
      "Run: Joining time- 0.02333664894104004 , Total Time taken - 0.031138181686401367 seconds\n",
      "Run: Joining time- 0.012284040451049805 , Total Time taken - 0.04271864891052246 seconds\n",
      "Run: Joining time- 0.014559030532836914 , Total Time taken - 0.030661821365356445 seconds\n",
      "Run: Joining time- 0.01423954963684082 , Total Time taken - 0.03538179397583008 seconds\n",
      "Run: Joining time- 0.02103424072265625 , Total Time taken - 0.04443955421447754 seconds\n",
      "Run: Joining time- 0.018884658813476562 , Total Time taken - 0.023155689239501953 seconds\n",
      "Run: Joining time- 0.010186910629272461 , Total Time taken - 0.0229034423828125 seconds\n",
      "Run: Joining time- 0.020876646041870117 , Total Time taken - 0.04136514663696289 seconds\n",
      "Run: Joining time- 0.01850724220275879 , Total Time taken - 0.028873205184936523 seconds\n",
      "Run: Joining time- 0.013599872589111328 , Total Time taken - 0.026018142700195312 seconds\n",
      "Run: Joining time- 0.012058496475219727 , Total Time taken - 0.0328981876373291 seconds\n",
      "Run: Joining time- 0.014647483825683594 , Total Time taken - 0.038492441177368164 seconds\n",
      "Run: Joining time- 0.011204242706298828 , Total Time taken - 0.025526762008666992 seconds\n",
      "Run: Joining time- 0.020831823348999023 , Total Time taken - 0.03303790092468262 seconds\n",
      "Run: Joining time- 0.014133214950561523 , Total Time taken - 0.030524730682373047 seconds\n",
      "Run: Joining time- 0.022327423095703125 , Total Time taken - 0.05180859565734863 seconds\n",
      "Run: Joining time- 0.015202760696411133 , Total Time taken - 0.04186415672302246 seconds\n",
      "Run: Joining time- 0.012440204620361328 , Total Time taken - 0.04138350486755371 seconds\n",
      "Run: Joining time- 0.03148937225341797 , Total Time taken - 0.05219316482543945 seconds\n",
      "Run: Joining time- 0.0118865966796875 , Total Time taken - 0.042534589767456055 seconds\n"
     ]
    },
    {
     "data": {
      "text/plain": [
       "1.1612649000016972"
      ]
     },
     "execution_count": 6,
     "metadata": {},
     "output_type": "execute_result"
    }
   ],
   "source": [
    "timeit.timeit(lambda: run_loop(num_files_to_open, v_files), number=bench_runs) #Benchmark run for joining"
   ]
  },
  {
   "cell_type": "markdown",
   "id": "1302a53f-35e0-4c49-837b-9932cfef745e",
   "metadata": {},
   "source": [
    "Defining classes"
   ]
  },
  {
   "cell_type": "code",
   "execution_count": 7,
   "id": "8e3c2170-aea2-42c5-b0b4-6c74c41cac45",
   "metadata": {},
   "outputs": [],
   "source": [
    "def is_prime(n):\n",
    "    count = 0\n",
    "    if n > 1:\n",
    "        for i in range(1, n + 1):\n",
    "            if n % i == 0:\n",
    "                count += 1\n",
    "    return count == 2\n",
    "\n",
    "def is_polygonal(s, x):\n",
    "    assert s > 2 and s % 1 == 0 and x % 1 == 0\n",
    "    n = (sqrt(8 * (s - 2) * x + (s - 4) ** 2) + (s - 4)) / (2 * (s - 2))\n",
    "    return n % 1 == 0\n",
    "\n",
    "def is_fibonacci(n):\n",
    "    a, b = 0,1\n",
    "    while a < n:\n",
    "        a, b = b, a + b\n",
    "    return a == n\n",
    "\n",
    "def is_perfect(n):\n",
    "    sum = 1\n",
    "    i = 2\n",
    "    while i * i <= n:\n",
    "        if n % i == 0:\n",
    "            sum = sum + i + n/i\n",
    "        i += 1\n",
    "    return sum == n and n != 1"
   ]
  },
  {
   "cell_type": "code",
   "execution_count": 8,
   "id": "9944e1c2-89be-4b67-8f4e-54fc8cc49738",
   "metadata": {},
   "outputs": [],
   "source": [
    "combined_df['sum'] = combined_df.select_dtypes(include='number').sum(axis=1)\n",
    "classes = [\n",
    "    ('is_prime', is_prime),\n",
    "    ('is_triangular', partial(is_polygonal, 3)),\n",
    "    ('is_rectangular', partial(is_polygonal, 4)),\n",
    "    ('is_pentagonal', partial(is_polygonal, 5)),\n",
    "    ('is_hexagonal', partial(is_polygonal, 6)),\n",
    "    ('is_fibonacci', is_fibonacci),\n",
    "    ('is_perfect', is_perfect),\n",
    "]\n",
    "for i, func in enumerate(classes):\n",
    "    combined_df[func[0]] = combined_df['sum'].apply(func[1])"
   ]
  },
  {
   "cell_type": "code",
   "execution_count": 9,
   "id": "b777320c-0e0a-478e-9c6f-bf05695442af",
   "metadata": {},
   "outputs": [],
   "source": [
    "numerics = list(combined_df.select_dtypes(include='number'))\n",
    "combined_df = combined_df.drop(columns=numerics)"
   ]
  },
  {
   "cell_type": "code",
   "execution_count": 10,
   "id": "72b86f32-05e1-43f5-8371-d2485c2cd7ef",
   "metadata": {},
   "outputs": [],
   "source": [
    "combinations = list(product([True, False], repeat=7))\n",
    "class_mapping = {tuple(row): f'Class_{i+1:03}' for i, row in enumerate(combinations)}"
   ]
  },
  {
   "cell_type": "markdown",
   "id": "fb38b127-77cd-43b1-b804-fe9c9d348e0d",
   "metadata": {},
   "source": [
    "Benchmarking Classification"
   ]
  },
  {
   "cell_type": "code",
   "execution_count": 11,
   "id": "dcc45bf8-e0e7-4b28-bbe4-22ae12101e2d",
   "metadata": {},
   "outputs": [],
   "source": [
    "classify_time=[]\n",
    "def classify_loop():\n",
    "    \n",
    "    start_time = time.time()\n",
    "\n",
    "    bench_class = combined_df[['is_prime','is_triangular','is_rectangular','is_pentagonal','is_hexagonal','is_fibonacci','is_perfect']].apply(lambda row: class_mapping[tuple(row.astype(int))], axis=1) #This should remain the same, as cell count remains static   \n",
    "\n",
    "    end_time = time.time()\n",
    "    \n",
    "    # Calculate and print the time taken for each run\n",
    "    time_taken = end_time - start_time\n",
    "    classify_time.append(time_taken)\n",
    "    print(f'Run: Time taken - {time_taken} seconds')"
   ]
  },
  {
   "cell_type": "code",
   "execution_count": 12,
   "id": "66bf86c3-fd37-4f43-948f-de894034f864",
   "metadata": {},
   "outputs": [
    {
     "name": "stdout",
     "output_type": "stream",
     "text": [
      "Run: Time taken - 0.0031316280364990234 seconds\n",
      "Run: Time taken - 0.0 seconds\n",
      "Run: Time taken - 0.0 seconds\n",
      "Run: Time taken - 0.006033182144165039 seconds\n",
      "Run: Time taken - 0.002265453338623047 seconds\n",
      "Run: Time taken - 0.0010111331939697266 seconds\n",
      "Run: Time taken - 0.0019407272338867188 seconds\n",
      "Run: Time taken - 0.0 seconds\n",
      "Run: Time taken - 0.0 seconds\n",
      "Run: Time taken - 0.0 seconds\n",
      "Run: Time taken - 0.0 seconds\n",
      "Run: Time taken - 0.005064725875854492 seconds\n",
      "Run: Time taken - 0.0020444393157958984 seconds\n",
      "Run: Time taken - 0.0 seconds\n",
      "Run: Time taken - 0.0 seconds\n",
      "Run: Time taken - 0.0 seconds\n",
      "Run: Time taken - 0.0 seconds\n",
      "Run: Time taken - 0.0 seconds\n",
      "Run: Time taken - 0.006796121597290039 seconds\n",
      "Run: Time taken - 0.0010654926300048828 seconds\n",
      "Run: Time taken - 0.0009903907775878906 seconds\n",
      "Run: Time taken - 0.000985860824584961 seconds\n",
      "Run: Time taken - 0.0 seconds\n",
      "Run: Time taken - 0.0 seconds\n",
      "Run: Time taken - 0.0 seconds\n",
      "Run: Time taken - 0.0 seconds\n",
      "Run: Time taken - 0.0 seconds\n",
      "Run: Time taken - 0.008066177368164062 seconds\n",
      "Run: Time taken - 0.0 seconds\n",
      "Run: Time taken - 0.002045869827270508 seconds\n"
     ]
    },
    {
     "data": {
      "text/plain": [
       "0.04107360006310046"
      ]
     },
     "execution_count": 12,
     "metadata": {},
     "output_type": "execute_result"
    }
   ],
   "source": [
    "timeit.timeit(lambda: classify_loop(), number=bench_runs) #Benchmark run for classifying"
   ]
  },
  {
   "cell_type": "markdown",
   "id": "f49eb829-b1eb-49b1-9f2b-0f9e9fd90030",
   "metadata": {},
   "source": [
    "Writing benchmark results"
   ]
  },
  {
   "cell_type": "code",
   "execution_count": 13,
   "id": "af0503d1-4dc6-4210-9806-634d3c31f35a",
   "metadata": {},
   "outputs": [],
   "source": [
    "with open(f'Vector_benchmark_{num_files_to_open}_layers.csv', 'w', newline='') as csvfile: #Writing benchmark results\n",
    "    writer = csv.writer(csvfile)\n",
    "    writer.writerow(['Run', 'Joining(s)','Classify(s)'])\n",
    "    for i, (join_taken, classify_taken) in enumerate(zip(joining_time, classify_time)):\n",
    "        writer.writerow([i+1, join_taken, classify_taken])"
   ]
  },
  {
   "cell_type": "markdown",
   "id": "6f7ef346-f94c-4488-9f22-c8f2f90a8605",
   "metadata": {},
   "source": [
    "Applying classification"
   ]
  },
  {
   "cell_type": "code",
   "execution_count": 14,
   "id": "ba76d575-3356-4143-b75e-3edc1b536a4d",
   "metadata": {},
   "outputs": [],
   "source": [
    "combined_df['class'] = combined_df[['is_prime','is_triangular','is_rectangular','is_pentagonal','is_hexagonal','is_fibonacci','is_perfect']].apply(lambda row: class_mapping[tuple(row.astype(int))], axis=1)\n",
    "combined_df=combined_df[['class','geometry']]"
   ]
  },
  {
   "cell_type": "code",
   "execution_count": 15,
   "id": "e7ed42ed-9bea-4a4c-97cc-d581b02013ca",
   "metadata": {},
   "outputs": [],
   "source": [
    "output_dir.mkdir(parents=True, exist_ok=True)\n",
    "output = (output_dir / f'Vector_{num_files_to_open}_layers.gpkg')\n",
    "# output.touch(exist_ok=True)\n",
    "combined_df.to_file(output, layer='benchmarking', driver='GPKG', mode='w')"
   ]
  },
  {
   "cell_type": "code",
   "execution_count": 16,
   "id": "7929e6b9-f673-48db-a8dc-eae2ec729d63",
   "metadata": {},
   "outputs": [
    {
     "data": {
      "text/plain": [
       "<Axes: >"
      ]
     },
     "execution_count": 16,
     "metadata": {},
     "output_type": "execute_result"
    },
    {
     "data": {
      "image/png": "[encoded data removed]",
      "text/plain": [
       "<Figure size 640x480 with 1 Axes>"
      ]
     },
     "metadata": {},
     "output_type": "display_data"
    }
   ],
   "source": [
    "combined_df.plot('class', cmap='viridis')"
   ]
  }
 ],
 "metadata": {
  "kernelspec": {
   "display_name": "Python 3 (ipykernel)",
   "language": "python",
   "name": "python3"
  },
  "language_info": {
   "codemirror_mode": {
    "name": "ipython",
    "version": 3
   },
   "file_extension": ".py",
   "mimetype": "text/x-python",
   "name": "python",
   "nbconvert_exporter": "python",
   "pygments_lexer": "ipython3",
   "version": "3.11.6"
  }
 },
 "nbformat": 4,
 "nbformat_minor": 5
}
