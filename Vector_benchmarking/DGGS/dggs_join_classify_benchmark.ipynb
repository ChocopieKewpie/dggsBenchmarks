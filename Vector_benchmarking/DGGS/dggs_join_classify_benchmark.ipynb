{
 "cells": [
  {
   "cell_type": "code",
   "execution_count": 1,
   "id": "56525c39-20ce-44a7-a639-535f48332b4b",
   "metadata": {},
   "outputs": [],
   "source": [
    "from functools import partial\n",
    "from math import sqrt\n",
    "from pathlib import Path\n",
    "import geopandas as gpd\n",
    "import h3pandas\n",
    "from itertools import product\n",
    "import time\n",
    "import timeit\n",
    "import csv"
   ]
  },
  {
   "cell_type": "code",
   "execution_count": 2,
   "id": "e44cba71-8263-485c-863f-e2ec5f7615b3",
   "metadata": {},
   "outputs": [],
   "source": [
    "input_dir = Path('vector_1000')\n",
    "output_dir = Path.cwd()\n",
    "\n",
    "# Get a list of all GPKG files in the folder\n",
    "v_files = list(sorted(input_dir.glob('*.gpkg')))"
   ]
  },
  {
   "cell_type": "code",
   "execution_count": 3,
   "id": "d70aba6d-d56d-4c4f-a0d3-840de1a372d3",
   "metadata": {},
   "outputs": [],
   "source": [
    "# Specify the number of files to open\n",
    "num_files_to_open = 2  #Layers to join\n",
    "h3_res=14   #Setting h3 resolution\n",
    "bench_runs=30  #Benchmark runs, should probably do 30 "
   ]
  },
  {
   "cell_type": "code",
   "execution_count": 4,
   "id": "84362c3a-7b10-4053-bc3a-0ed5e5b7c03e",
   "metadata": {},
   "outputs": [],
   "source": [
    "# Loop through each GPKG file, index and join\n",
    "for i, file in enumerate(v_files[:num_files_to_open]):\n",
    "        col_name = file.stem.split('_')[1]  # Extracting the column name from the file name\n",
    "        df = gpd.read_file(file).to_crs(4326)\n",
    "        df = df.h3.polyfill(h3_res, explode=True).drop(columns=['geometry'])\n",
    "        df.columns = [col_name, *df.columns[1:]]  # Setting the column to the file\n",
    "        df = df.set_index('h3_polyfill')\n",
    "        if i == 0:\n",
    "            combined_df = df.copy()\n",
    "        else:\n",
    "            combined_df = combined_df.join(df)"
   ]
  },
  {
   "cell_type": "markdown",
   "id": "3d87714c-6e42-4fbd-a1ec-83a375f3ffc5",
   "metadata": {},
   "source": [
    "Benchmarking for joining"
   ]
  },
  {
   "cell_type": "code",
   "execution_count": 5,
   "id": "62ceddda-b76a-4419-8013-541e1cbdf6ca",
   "metadata": {},
   "outputs": [],
   "source": [
    "indexing_time= []\n",
    "joining_time = []\n",
    "\n",
    "def run_loop(num_files_to_open, v_files, h3_res):\n",
    "    index_time= []\n",
    "    join_time= []\n",
    "\n",
    "    start_time = time.time()\n",
    "    for i, file in enumerate(v_files[:num_files_to_open]):\n",
    "        \n",
    "        col_name = file.stem.split('_')[1]  # Extracting the column name from the file name\n",
    "        df = gpd.read_file(file).to_crs(4326)\n",
    "\n",
    "        #Indexing benchmark\n",
    "        index_Stime=time.time()\n",
    "        df = df.h3.polyfill(h3_res, explode=True).drop(columns=['geometry'])\n",
    "        index_Etime=time.time()\n",
    "        index_Ftime = index_Etime - index_Stime\n",
    "        index_time.append(index_Ftime)\n",
    "\n",
    "        #Joining benchmark\n",
    "        join_Stime=time.time()\n",
    "        df.columns = [col_name, *df.columns[1:]]  # Setting the column to the file\n",
    "        df = df.set_index('h3_polyfill')\n",
    "        if i == 0:\n",
    "            combined_df = df.copy()\n",
    "        else:\n",
    "            combined_df = combined_df.join(df)\n",
    "        join_Etime=time.time()\n",
    "        join_Ftime = join_Etime - join_Stime\n",
    "        join_time.append(join_Ftime)\n",
    "\n",
    "    # Calculate and print the time taken for each run\n",
    "    end_time = time.time()\n",
    "    time_taken = end_time - start_time\n",
    "    \n",
    "    indexing_time.append(sum(index_time))\n",
    "    joining_time.append(sum(join_time))\n",
    "    print(f'Run: index time - {sum(index_time)} , joining time - {sum(join_time)} seconds, Total time- {time_taken} seconds')"
   ]
  },
  {
   "cell_type": "code",
   "execution_count": 6,
   "id": "986d5b86-1e5d-4ae4-b0fa-fafd47a80ee6",
   "metadata": {},
   "outputs": [
    {
     "name": "stdout",
     "output_type": "stream",
     "text": [
      "Run: index time - 0.43859148025512695 , joining time - 0.057505130767822266 seconds, Total time- 0.515101432800293 seconds\n",
      "Run: index time - 0.43018627166748047 , joining time - 0.0449986457824707 seconds, Total time- 0.4941835403442383 seconds\n",
      "Run: index time - 0.40537261962890625 , joining time - 0.046994686126708984 seconds, Total time- 0.4712955951690674 seconds\n",
      "Run: index time - 0.41283202171325684 , joining time - 0.054512977600097656 seconds, Total time- 0.48645949363708496 seconds\n",
      "Run: index time - 0.4107201099395752 , joining time - 0.04850649833679199 seconds, Total time- 0.4782273769378662 seconds\n",
      "Run: index time - 0.41384243965148926 , joining time - 0.048564910888671875 seconds, Total time- 0.48160696029663086 seconds\n",
      "Run: index time - 0.4157068729400635 , joining time - 0.049117088317871094 seconds, Total time- 0.4837813377380371 seconds\n",
      "Run: index time - 0.4114055633544922 , joining time - 0.05500459671020508 seconds, Total time- 0.4856243133544922 seconds\n",
      "Run: index time - 0.42141151428222656 , joining time - 0.05100560188293457 seconds, Total time- 0.4920077323913574 seconds\n",
      "Run: index time - 0.41292333602905273 , joining time - 0.04899954795837402 seconds, Total time- 0.47967958450317383 seconds\n",
      "Run: index time - 0.4181365966796875 , joining time - 0.06095480918884277 seconds, Total time- 0.4980912208557129 seconds\n",
      "Run: index time - 0.4109153747558594 , joining time - 0.05199837684631348 seconds, Total time- 0.4813075065612793 seconds\n",
      "Run: index time - 0.4068324565887451 , joining time - 0.057996273040771484 seconds, Total time- 0.4845421314239502 seconds\n",
      "Run: index time - 0.41193628311157227 , joining time - 0.05251121520996094 seconds, Total time- 0.48244571685791016 seconds\n",
      "Run: index time - 0.40563344955444336 , joining time - 0.05839228630065918 seconds, Total time- 0.4825472831726074 seconds\n",
      "Run: index time - 0.4158656597137451 , joining time - 0.043607234954833984 seconds, Total time- 0.47741055488586426 seconds\n",
      "Run: index time - 0.4097900390625 , joining time - 0.048963069915771484 seconds, Total time- 0.4757499694824219 seconds\n",
      "Run: index time - 0.4207432270050049 , joining time - 0.04815053939819336 seconds, Total time- 0.48989415168762207 seconds\n",
      "Run: index time - 0.41451191902160645 , joining time - 0.04605460166931152 seconds, Total time- 0.47811031341552734 seconds\n",
      "Run: index time - 0.41179561614990234 , joining time - 0.04718375205993652 seconds, Total time- 0.4774918556213379 seconds\n",
      "Run: index time - 0.412325382232666 , joining time - 0.05776190757751465 seconds, Total time- 0.4882194995880127 seconds\n",
      "Run: index time - 0.40706539154052734 , joining time - 0.05650949478149414 seconds, Total time- 0.48369526863098145 seconds\n",
      "Run: index time - 0.41802072525024414 , joining time - 0.049513816833496094 seconds, Total time- 0.48537731170654297 seconds\n",
      "Run: index time - 0.4136695861816406 , joining time - 0.04919624328613281 seconds, Total time- 0.48282337188720703 seconds\n",
      "Run: index time - 0.4140348434448242 , joining time - 0.04651498794555664 seconds, Total time- 0.47852087020874023 seconds\n",
      "Run: index time - 0.4132497310638428 , joining time - 0.04400038719177246 seconds, Total time- 0.47641587257385254 seconds\n",
      "Run: index time - 0.4192368984222412 , joining time - 0.054882049560546875 seconds, Total time- 0.49276161193847656 seconds\n",
      "Run: index time - 0.41680431365966797 , joining time - 0.047998905181884766 seconds, Total time- 0.4836606979370117 seconds\n",
      "Run: index time - 0.4128708839416504 , joining time - 0.04899907112121582 seconds, Total time- 0.48024415969848633 seconds\n",
      "Run: index time - 0.41251707077026367 , joining time - 0.0546114444732666 seconds, Total time- 0.4849419593811035 seconds\n"
     ]
    },
    {
     "data": {
      "text/plain": [
       "14.696673200000077"
      ]
     },
     "execution_count": 6,
     "metadata": {},
     "output_type": "execute_result"
    }
   ],
   "source": [
    "timeit.timeit(lambda: run_loop(num_files_to_open, v_files, h3_res), number=bench_runs) #Benchmark run for joining"
   ]
  },
  {
   "cell_type": "markdown",
   "id": "5dc4011c-b87f-4731-890f-aaab9943bb35",
   "metadata": {},
   "source": [
    "Defining classes"
   ]
  },
  {
   "cell_type": "code",
   "execution_count": 7,
   "id": "d54cd7f1-cd26-4c62-a018-fb3180466155",
   "metadata": {},
   "outputs": [],
   "source": [
    "def is_prime(n):\n",
    "    count = 0\n",
    "    if n > 1:\n",
    "        for i in range(1, n + 1):\n",
    "            if n % i == 0:\n",
    "                count += 1\n",
    "    return count == 2\n",
    "\n",
    "def is_polygonal(s, x):\n",
    "    assert s > 2 and s % 1 == 0 and x % 1 == 0\n",
    "    n = (sqrt(8 * (s - 2) * x + (s - 4) ** 2) + (s - 4)) / (2 * (s - 2))\n",
    "    return n % 1 == 0\n",
    "\n",
    "def is_fibonacci(n):\n",
    "    a, b = 0,1\n",
    "    while a < n:\n",
    "        a, b = b, a + b\n",
    "    return a == n\n",
    "\n",
    "def is_perfect(n):\n",
    "    sum = 1\n",
    "    i = 2\n",
    "    while i * i <= n:\n",
    "        if n % i == 0:\n",
    "            sum = sum + i + n/i\n",
    "        i += 1\n",
    "    return sum == n and n != 1"
   ]
  },
  {
   "cell_type": "code",
   "execution_count": 8,
   "id": "69895183-7ad3-4153-8577-dcfe87930f0a",
   "metadata": {},
   "outputs": [],
   "source": [
    "combined_df['sum'] = combined_df.select_dtypes(include='number').sum(axis=1)\n",
    "classes = [\n",
    "    ('is_prime', is_prime),\n",
    "    ('is_triangular', partial(is_polygonal, 3)),\n",
    "    ('is_rectangular', partial(is_polygonal, 4)),\n",
    "    ('is_pentagonal', partial(is_polygonal, 5)),\n",
    "    ('is_hexagonal', partial(is_polygonal, 6)),\n",
    "    ('is_fibonacci', is_fibonacci),\n",
    "    ('is_perfect', is_perfect),\n",
    "]\n",
    "for i, func in enumerate(classes):\n",
    "    combined_df[func[0]] = combined_df['sum'].apply(func[1])"
   ]
  },
  {
   "cell_type": "code",
   "execution_count": 9,
   "id": "c8680f9e-2947-4943-9800-83096693168a",
   "metadata": {},
   "outputs": [],
   "source": [
    "numerics = list(combined_df.select_dtypes(include='number'))\n",
    "combined_df = combined_df.drop(columns=numerics)"
   ]
  },
  {
   "cell_type": "code",
   "execution_count": 10,
   "id": "19d694e4-ca2c-4228-b5a6-2abec704c85b",
   "metadata": {},
   "outputs": [],
   "source": [
    "combinations = list(product([True, False], repeat=7))\n",
    "class_mapping = {tuple(row): f'Class_{i+1:03}' for i, row in enumerate(combinations)}"
   ]
  },
  {
   "cell_type": "markdown",
   "id": "e8b75a20-742e-4f5d-b686-435209920150",
   "metadata": {},
   "source": [
    "Benchmarking Classification"
   ]
  },
  {
   "cell_type": "code",
   "execution_count": 11,
   "id": "d955488e-b03e-4c6f-bc32-9ac5a1de3645",
   "metadata": {},
   "outputs": [],
   "source": [
    "classify_time=[]\n",
    "def classify_loop():\n",
    "    \n",
    "    start_time = time.time()\n",
    "\n",
    "    bench_class = combined_df.apply(lambda row: class_mapping[tuple(row.astype(int))], axis=1) #This should remain the same, as cell count remains static   \n",
    "\n",
    "    end_time = time.time()\n",
    "    \n",
    "    # Calculate and print the time taken for each run\n",
    "    time_taken = end_time - start_time\n",
    "    classify_time.append(time_taken)\n",
    "    print(f'Run: Time taken - {time_taken} seconds')"
   ]
  },
  {
   "cell_type": "code",
   "execution_count": 12,
   "id": "b2ed3d33-ccfc-4cb7-bf29-b2fe0995105d",
   "metadata": {},
   "outputs": [
    {
     "name": "stdout",
     "output_type": "stream",
     "text": [
      "Run: Time taken - 3.3507847785949707 seconds\n",
      "Run: Time taken - 3.306244134902954 seconds\n",
      "Run: Time taken - 3.3249197006225586 seconds\n",
      "Run: Time taken - 3.369717836380005 seconds\n",
      "Run: Time taken - 3.30319881439209 seconds\n",
      "Run: Time taken - 3.2928824424743652 seconds\n",
      "Run: Time taken - 3.3443667888641357 seconds\n",
      "Run: Time taken - 3.3098678588867188 seconds\n",
      "Run: Time taken - 3.3010592460632324 seconds\n",
      "Run: Time taken - 3.3128480911254883 seconds\n",
      "Run: Time taken - 3.35477614402771 seconds\n",
      "Run: Time taken - 3.3046905994415283 seconds\n",
      "Run: Time taken - 3.3693807125091553 seconds\n",
      "Run: Time taken - 3.340284824371338 seconds\n",
      "Run: Time taken - 3.331868886947632 seconds\n",
      "Run: Time taken - 3.323054552078247 seconds\n",
      "Run: Time taken - 3.3130218982696533 seconds\n",
      "Run: Time taken - 3.326209783554077 seconds\n",
      "Run: Time taken - 3.3720338344573975 seconds\n",
      "Run: Time taken - 3.3444910049438477 seconds\n",
      "Run: Time taken - 3.3774795532226562 seconds\n",
      "Run: Time taken - 3.292574405670166 seconds\n",
      "Run: Time taken - 3.3554906845092773 seconds\n",
      "Run: Time taken - 3.3458447456359863 seconds\n",
      "Run: Time taken - 3.3181188106536865 seconds\n",
      "Run: Time taken - 3.292600631713867 seconds\n",
      "Run: Time taken - 3.3440322875976562 seconds\n",
      "Run: Time taken - 3.3632044792175293 seconds\n",
      "Run: Time taken - 3.444157361984253 seconds\n",
      "Run: Time taken - 3.444880485534668 seconds\n"
     ]
    },
    {
     "data": {
      "text/plain": [
       "100.17867059999844"
      ]
     },
     "execution_count": 12,
     "metadata": {},
     "output_type": "execute_result"
    }
   ],
   "source": [
    "timeit.timeit(lambda: classify_loop(), number=bench_runs) #Benchmark run for classifying"
   ]
  },
  {
   "cell_type": "markdown",
   "id": "1d99599d-b346-4b63-81b3-06586484416e",
   "metadata": {},
   "source": [
    "Writing benchmark results"
   ]
  },
  {
   "cell_type": "code",
   "execution_count": 13,
   "id": "481ccbcc-be4b-4455-b7bf-af8f8b504dea",
   "metadata": {},
   "outputs": [],
   "source": [
    "with open(f'DGGS_benchmark_{num_files_to_open}_layers.csv', 'w', newline='') as csvfile: #Writing benchmark results\n",
    "    writer = csv.writer(csvfile)\n",
    "    writer.writerow(['Run', 'Indexing(s)', 'Joining(s)','Classify(s)'])\n",
    "    for i, (index_taken, join_taken, classify_taken) in enumerate(zip(indexing_time,joining_time, classify_time)):\n",
    "        writer.writerow([i+1, index_taken, join_taken, classify_taken])"
   ]
  },
  {
   "cell_type": "markdown",
   "id": "cf07ebd8-82a7-4525-9a74-08809708486c",
   "metadata": {},
   "source": [
    "Applying classification"
   ]
  },
  {
   "cell_type": "code",
   "execution_count": 14,
   "id": "9d9b39dd-2eff-46c4-bab5-79657963aeb4",
   "metadata": {},
   "outputs": [],
   "source": [
    "combined_df['class'] = combined_df.apply(lambda row: class_mapping[tuple(row.astype(int))], axis=1) #This should remain the same, as cell count remains static"
   ]
  },
  {
   "cell_type": "code",
   "execution_count": 15,
   "id": "c2713834-c66d-4111-a1e7-39c8d99f8cf7",
   "metadata": {},
   "outputs": [],
   "source": [
    "h3_df=combined_df[['class']]"
   ]
  },
  {
   "cell_type": "code",
   "execution_count": 16,
   "id": "294e4946-915f-4761-afc7-45e1e4eda63c",
   "metadata": {},
   "outputs": [],
   "source": [
    "h3_df=h3_df.h3.h3_to_geo_boundary() #NOT going to benchmark these yet. But this should remain the same, as cell count remains static this whole cell should take roughly 10s"
   ]
  },
  {
   "cell_type": "code",
   "execution_count": 17,
   "id": "00eca3ce-9f68-402d-90b4-67e28b898146",
   "metadata": {},
   "outputs": [],
   "source": [
    "h3_df=h3_df.dissolve(by='class').reset_index().to_crs(2193)  #Technically this is traditional method, do we even include this? I think not."
   ]
  },
  {
   "cell_type": "markdown",
   "id": "6ccebb4c-ed31-4c92-ab81-4a1c7e6e93f5",
   "metadata": {},
   "source": [
    "Writing Geopackage output"
   ]
  },
  {
   "cell_type": "code",
   "execution_count": 18,
   "id": "fb1a53e5-464a-4a10-bfa4-982615935ec8",
   "metadata": {},
   "outputs": [],
   "source": [
    "output_dir.mkdir(parents=True, exist_ok=True)\n",
    "output = (output_dir / f'DGGS_{num_files_to_open}_layers.gpkg')\n",
    "# output.touch(exist_ok=True)\n",
    "h3_df.to_file(output, layer='benchmarking', driver='GPKG', mode='w')"
   ]
  },
  {
   "cell_type": "code",
   "execution_count": 19,
   "id": "bd97b38e-6a23-47d2-82c9-d003d3ccd698",
   "metadata": {},
   "outputs": [
    {
     "data": {
      "text/plain": [
       "<Axes: >"
      ]
     },
     "execution_count": 19,
     "metadata": {},
     "output_type": "execute_result"
    },
    {
     "data": {
      "image/png": "[encoded data removed]",
      "text/plain": [
       "<Figure size 640x480 with 1 Axes>"
      ]
     },
     "metadata": {},
     "output_type": "display_data"
    }
   ],
   "source": [
    "h3_df.plot('class', cmap='viridis')"
   ]
  }
 ],
 "metadata": {
  "kernelspec": {
   "display_name": "Python 3 (ipykernel)",
   "language": "python",
   "name": "python3"
  },
  "language_info": {
   "codemirror_mode": {
    "name": "ipython",
    "version": 3
   },
   "file_extension": ".py",
   "mimetype": "text/x-python",
   "name": "python",
   "nbconvert_exporter": "python",
   "pygments_lexer": "ipython3",
   "version": "3.11.7"
  }
 },
 "nbformat": 4,
 "nbformat_minor": 5
}
