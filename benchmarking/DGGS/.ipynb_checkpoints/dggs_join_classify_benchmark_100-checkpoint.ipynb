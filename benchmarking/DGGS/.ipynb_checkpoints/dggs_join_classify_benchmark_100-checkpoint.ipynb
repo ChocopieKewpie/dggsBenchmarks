{
 "cells": [
  {
   "cell_type": "code",
   "execution_count": 1,
   "id": "56525c39-20ce-44a7-a639-535f48332b4b",
   "metadata": {},
   "outputs": [],
   "source": [
    "from functools import partial\n",
    "from math import sqrt\n",
    "from pathlib import Path\n",
    "import geopandas as gpd\n",
    "import h3pandas\n",
    "from itertools import product\n",
    "import time\n",
    "import timeit\n",
    "import csv"
   ]
  },
  {
   "cell_type": "code",
   "execution_count": 2,
   "id": "e44cba71-8263-485c-863f-e2ec5f7615b3",
   "metadata": {},
   "outputs": [],
   "source": [
    "input_dir = Path('vector_1000')\n",
    "output_dir = Path.cwd()\n",
    "\n",
    "# Get a list of all GPKG files in the folder\n",
    "v_files = list(sorted(input_dir.glob('*.gpkg')))"
   ]
  },
  {
   "cell_type": "code",
   "execution_count": 3,
   "id": "d70aba6d-d56d-4c4f-a0d3-840de1a372d3",
   "metadata": {},
   "outputs": [],
   "source": [
    "# Specify the number of files to open\n",
    "num_files_to_open = 100  #Layers to join\n",
    "h3_res=14   #Setting h3 resolution\n",
    "bench_runs=30  #Benchmark runs, should probably do 30 "
   ]
  },
  {
   "cell_type": "code",
   "execution_count": 4,
   "id": "84362c3a-7b10-4053-bc3a-0ed5e5b7c03e",
   "metadata": {},
   "outputs": [],
   "source": [
    "# Loop through each GPKG file, index and join\n",
    "for i, file in enumerate(v_files[:num_files_to_open]):\n",
    "        col_name = file.stem.split('_')[1]  # Extracting the column name from the file name\n",
    "        df = gpd.read_file(file).to_crs(4326)\n",
    "        df = df.h3.polyfill(h3_res, explode=True).drop(columns=['geometry'])\n",
    "        df.columns = [col_name, *df.columns[1:]]  # Setting the column to the file\n",
    "        df = df.set_index('h3_polyfill')\n",
    "        if i == 0:\n",
    "            combined_df = df.copy()\n",
    "        else:\n",
    "            combined_df = combined_df.join(df)"
   ]
  },
  {
   "cell_type": "markdown",
   "id": "3d87714c-6e42-4fbd-a1ec-83a375f3ffc5",
   "metadata": {},
   "source": [
    "Benchmarking for joining"
   ]
  },
  {
   "cell_type": "code",
   "execution_count": 5,
   "id": "62ceddda-b76a-4419-8013-541e1cbdf6ca",
   "metadata": {},
   "outputs": [],
   "source": [
    "indexing_time= []\n",
    "joining_time = []\n",
    "\n",
    "def run_loop(num_files_to_open, v_files, h3_res):\n",
    "    index_time= []\n",
    "    join_time= []\n",
    "\n",
    "    start_time = time.time()\n",
    "    for i, file in enumerate(v_files[:num_files_to_open]):\n",
    "        \n",
    "        col_name = file.stem.split('_')[1]  # Extracting the column name from the file name\n",
    "        df = gpd.read_file(file).to_crs(4326)\n",
    "\n",
    "        #Indexing benchmark\n",
    "        index_Stime=time.time()\n",
    "        df = df.h3.polyfill(h3_res, explode=True).drop(columns=['geometry'])\n",
    "        index_Etime=time.time()\n",
    "        index_Ftime = index_Etime - index_Stime\n",
    "        index_time.append(index_Ftime)\n",
    "\n",
    "        #Joining benchmark\n",
    "        join_Stime=time.time()\n",
    "        df.columns = [col_name, *df.columns[1:]]  # Setting the column to the file\n",
    "        df = df.set_index('h3_polyfill')\n",
    "        if i == 0:\n",
    "            combined_df = df.copy()\n",
    "        else:\n",
    "            combined_df = combined_df.join(df)\n",
    "        join_Etime=time.time()\n",
    "        join_Ftime = join_Etime - join_Stime\n",
    "        join_time.append(join_Ftime)\n",
    "\n",
    "    # Calculate and print the time taken for each run\n",
    "    end_time = time.time()\n",
    "    time_taken = end_time - start_time\n",
    "    \n",
    "    indexing_time.append(sum(index_time))\n",
    "    joining_time.append(sum(join_time))\n",
    "    print(f'Run: index time - {sum(index_time)} , joining time - {sum(join_time)} seconds, Total time- {time_taken} seconds')"
   ]
  },
  {
   "cell_type": "code",
   "execution_count": 6,
   "id": "986d5b86-1e5d-4ae4-b0fa-fafd47a80ee6",
   "metadata": {},
   "outputs": [
    {
     "name": "stdout",
     "output_type": "stream",
     "text": [
      "Run: index time - 28.757628440856934 , joining time - 9.248711585998535 seconds, Total time- 39.72415328025818 seconds\n",
      "Run: index time - 27.426801919937134 , joining time - 9.423852443695068 seconds, Total time- 38.33298397064209 seconds\n",
      "Run: index time - 27.168156623840332 , joining time - 9.090412855148315 seconds, Total time- 37.83668065071106 seconds\n",
      "Run: index time - 28.931129455566406 , joining time - 9.779441595077515 seconds, Total time- 40.359896421432495 seconds\n",
      "Run: index time - 36.382314682006836 , joining time - 11.153411865234375 seconds, Total time- 49.500370025634766 seconds\n",
      "Run: index time - 28.35959815979004 , joining time - 9.690011024475098 seconds, Total time- 39.762895822525024 seconds\n",
      "Run: index time - 27.590301990509033 , joining time - 9.381314516067505 seconds, Total time- 38.592647552490234 seconds\n",
      "Run: index time - 27.470614194869995 , joining time - 9.418068647384644 seconds, Total time- 39.31908679008484 seconds\n",
      "Run: index time - 27.359347820281982 , joining time - 9.571814060211182 seconds, Total time- 38.56786561012268 seconds\n",
      "Run: index time - 27.918133974075317 , joining time - 9.369385004043579 seconds, Total time- 39.58361840248108 seconds\n",
      "Run: index time - 27.549261569976807 , joining time - 9.19133996963501 seconds, Total time- 38.449971437454224 seconds\n",
      "Run: index time - 27.24377202987671 , joining time - 9.159311771392822 seconds, Total time- 38.05817699432373 seconds\n",
      "Run: index time - 27.986398220062256 , joining time - 9.616061925888062 seconds, Total time- 39.25895047187805 seconds\n",
      "Run: index time - 38.714998960494995 , joining time - 13.8855721950531 seconds, Total time- 54.678550720214844 seconds\n",
      "Run: index time - 38.77302050590515 , joining time - 13.719792366027832 seconds, Total time- 54.692397356033325 seconds\n",
      "Run: index time - 36.69163918495178 , joining time - 13.127438306808472 seconds, Total time- 51.87990093231201 seconds\n",
      "Run: index time - 41.8430552482605 , joining time - 14.878907918930054 seconds, Total time- 59.12604737281799 seconds\n",
      "Run: index time - 39.02672815322876 , joining time - 14.165529012680054 seconds, Total time- 55.41124439239502 seconds\n",
      "Run: index time - 31.834251642227173 , joining time - 11.280001878738403 seconds, Total time- 44.855833530426025 seconds\n",
      "Run: index time - 27.74695372581482 , joining time - 9.713501691818237 seconds, Total time- 39.05032682418823 seconds\n",
      "Run: index time - 27.808680772781372 , joining time - 9.470198392868042 seconds, Total time- 40.8376247882843 seconds\n",
      "Run: index time - 27.256216049194336 , joining time - 9.361466407775879 seconds, Total time- 38.30610108375549 seconds\n",
      "Run: index time - 27.44042444229126 , joining time - 9.437901973724365 seconds, Total time- 38.52373933792114 seconds\n",
      "Run: index time - 28.57170033454895 , joining time - 9.94442629814148 seconds, Total time- 43.55882167816162 seconds\n",
      "Run: index time - 36.336955070495605 , joining time - 12.144416332244873 seconds, Total time- 50.57403206825256 seconds\n",
      "Run: index time - 30.05872631072998 , joining time - 10.26736068725586 seconds, Total time- 42.10284757614136 seconds\n",
      "Run: index time - 28.275386810302734 , joining time - 9.908592700958252 seconds, Total time- 39.92350888252258 seconds\n",
      "Run: index time - 29.900791883468628 , joining time - 10.880557298660278 seconds, Total time- 42.52746319770813 seconds\n",
      "Run: index time - 36.823527812957764 , joining time - 12.695533275604248 seconds, Total time- 51.553027391433716 seconds\n",
      "Run: index time - 37.02565598487854 , joining time - 12.622618675231934 seconds, Total time- 51.891953229904175 seconds\n"
     ]
    },
    {
     "data": {
      "text/plain": [
       "1317.5097289000405"
      ]
     },
     "execution_count": 6,
     "metadata": {},
     "output_type": "execute_result"
    }
   ],
   "source": [
    "timeit.timeit(lambda: run_loop(num_files_to_open, v_files, h3_res), number=bench_runs) #Benchmark run for joining"
   ]
  },
  {
   "cell_type": "markdown",
   "id": "5dc4011c-b87f-4731-890f-aaab9943bb35",
   "metadata": {},
   "source": [
    "Defining classes"
   ]
  },
  {
   "cell_type": "code",
   "execution_count": 7,
   "id": "d54cd7f1-cd26-4c62-a018-fb3180466155",
   "metadata": {},
   "outputs": [],
   "source": [
    "def is_prime(n):\n",
    "    count = 0\n",
    "    if n > 1:\n",
    "        for i in range(1, n + 1):\n",
    "            if n % i == 0:\n",
    "                count += 1\n",
    "    return count == 2\n",
    "\n",
    "def is_polygonal(s, x):\n",
    "    assert s > 2 and s % 1 == 0 and x % 1 == 0\n",
    "    n = (sqrt(8 * (s - 2) * x + (s - 4) ** 2) + (s - 4)) / (2 * (s - 2))\n",
    "    return n % 1 == 0\n",
    "\n",
    "def is_fibonacci(n):\n",
    "    a, b = 0,1\n",
    "    while a < n:\n",
    "        a, b = b, a + b\n",
    "    return a == n\n",
    "\n",
    "def is_perfect(n):\n",
    "    sum = 1\n",
    "    i = 2\n",
    "    while i * i <= n:\n",
    "        if n % i == 0:\n",
    "            sum = sum + i + n/i\n",
    "        i += 1\n",
    "    return sum == n and n != 1"
   ]
  },
  {
   "cell_type": "code",
   "execution_count": 8,
   "id": "69895183-7ad3-4153-8577-dcfe87930f0a",
   "metadata": {},
   "outputs": [],
   "source": [
    "combined_df['sum'] = combined_df.select_dtypes(include='number').sum(axis=1)\n",
    "classes = [\n",
    "    ('is_prime', is_prime),\n",
    "    ('is_triangular', partial(is_polygonal, 3)),\n",
    "    ('is_rectangular', partial(is_polygonal, 4)),\n",
    "    ('is_pentagonal', partial(is_polygonal, 5)),\n",
    "    ('is_hexagonal', partial(is_polygonal, 6)),\n",
    "    ('is_fibonacci', is_fibonacci),\n",
    "    ('is_perfect', is_perfect),\n",
    "]\n",
    "for i, func in enumerate(classes):\n",
    "    combined_df[func[0]] = combined_df['sum'].apply(func[1])"
   ]
  },
  {
   "cell_type": "code",
   "execution_count": 9,
   "id": "c8680f9e-2947-4943-9800-83096693168a",
   "metadata": {},
   "outputs": [],
   "source": [
    "numerics = list(combined_df.select_dtypes(include='number'))\n",
    "combined_df = combined_df.drop(columns=numerics)"
   ]
  },
  {
   "cell_type": "code",
   "execution_count": 10,
   "id": "19d694e4-ca2c-4228-b5a6-2abec704c85b",
   "metadata": {},
   "outputs": [],
   "source": [
    "combinations = list(product([True, False], repeat=7))\n",
    "class_mapping = {tuple(row): f'Class_{i+1:03}' for i, row in enumerate(combinations)}"
   ]
  },
  {
   "cell_type": "markdown",
   "id": "e8b75a20-742e-4f5d-b686-435209920150",
   "metadata": {},
   "source": [
    "Benchmarking Classification"
   ]
  },
  {
   "cell_type": "code",
   "execution_count": 11,
   "id": "d955488e-b03e-4c6f-bc32-9ac5a1de3645",
   "metadata": {},
   "outputs": [],
   "source": [
    "classify_time=[]\n",
    "def classify_loop():\n",
    "    \n",
    "    start_time = time.time()\n",
    "\n",
    "    bench_class = combined_df.apply(lambda row: class_mapping[tuple(row.astype(int))], axis=1) #This should remain the same, as cell count remains static   \n",
    "\n",
    "    end_time = time.time()\n",
    "    \n",
    "    # Calculate and print the time taken for each run\n",
    "    time_taken = end_time - start_time\n",
    "    classify_time.append(time_taken)\n",
    "    print(f'Run: Time taken - {time_taken} seconds')"
   ]
  },
  {
   "cell_type": "code",
   "execution_count": null,
   "id": "b2ed3d33-ccfc-4cb7-bf29-b2fe0995105d",
   "metadata": {},
   "outputs": [
    {
     "name": "stdout",
     "output_type": "stream",
     "text": [
      "Run: Time taken - 7.193931579589844 seconds\n",
      "Run: Time taken - 6.814000368118286 seconds\n",
      "Run: Time taken - 7.232652902603149 seconds\n",
      "Run: Time taken - 6.997528076171875 seconds\n",
      "Run: Time taken - 7.423248767852783 seconds\n",
      "Run: Time taken - 6.880415678024292 seconds\n",
      "Run: Time taken - 7.285788297653198 seconds\n",
      "Run: Time taken - 7.359299182891846 seconds\n",
      "Run: Time taken - 7.223750829696655 seconds\n",
      "Run: Time taken - 7.3240907192230225 seconds\n",
      "Run: Time taken - 7.32681941986084 seconds\n",
      "Run: Time taken - 7.192183971405029 seconds\n",
      "Run: Time taken - 7.2942163944244385 seconds\n",
      "Run: Time taken - 6.952925443649292 seconds\n",
      "Run: Time taken - 6.600322723388672 seconds\n",
      "Run: Time taken - 6.495004892349243 seconds\n",
      "Run: Time taken - 6.160090208053589 seconds\n",
      "Run: Time taken - 5.906904935836792 seconds\n",
      "Run: Time taken - 5.900729417800903 seconds\n",
      "Run: Time taken - 5.820861577987671 seconds\n",
      "Run: Time taken - 5.774441957473755 seconds\n",
      "Run: Time taken - 5.964726209640503 seconds\n",
      "Run: Time taken - 5.9552483558654785 seconds\n",
      "Run: Time taken - 5.818364858627319 seconds\n",
      "Run: Time taken - 5.851619005203247 seconds\n",
      "Run: Time taken - 5.882407903671265 seconds\n",
      "Run: Time taken - 5.895693778991699 seconds\n",
      "Run: Time taken - 5.89142632484436 seconds\n",
      "Run: Time taken - 5.931182146072388 seconds\n"
     ]
    }
   ],
   "source": [
    "timeit.timeit(lambda: classify_loop(), number=bench_runs) #Benchmark run for classifying"
   ]
  },
  {
   "cell_type": "markdown",
   "id": "1d99599d-b346-4b63-81b3-06586484416e",
   "metadata": {},
   "source": [
    "Writing benchmark results"
   ]
  },
  {
   "cell_type": "code",
   "execution_count": null,
   "id": "481ccbcc-be4b-4455-b7bf-af8f8b504dea",
   "metadata": {},
   "outputs": [],
   "source": [
    "with open(f'DGGS_benchmark_{num_files_to_open}_layers.csv', 'w', newline='') as csvfile: #Writing benchmark results\n",
    "    writer = csv.writer(csvfile)\n",
    "    writer.writerow(['Run', 'Indexing(s)', 'Joining(s)','Classify(s)'])\n",
    "    for i, (index_taken, join_taken, classify_taken) in enumerate(zip(indexing_time,joining_time, classify_time)):\n",
    "        writer.writerow([i+1, index_taken, join_taken, classify_taken])"
   ]
  },
  {
   "cell_type": "markdown",
   "id": "cf07ebd8-82a7-4525-9a74-08809708486c",
   "metadata": {},
   "source": [
    "Applying classification"
   ]
  },
  {
   "cell_type": "code",
   "execution_count": null,
   "id": "9d9b39dd-2eff-46c4-bab5-79657963aeb4",
   "metadata": {},
   "outputs": [],
   "source": [
    "combined_df['class'] = combined_df.apply(lambda row: class_mapping[tuple(row.astype(int))], axis=1) #This should remain the same, as cell count remains static"
   ]
  },
  {
   "cell_type": "code",
   "execution_count": null,
   "id": "c2713834-c66d-4111-a1e7-39c8d99f8cf7",
   "metadata": {},
   "outputs": [],
   "source": [
    "h3_df=combined_df[['class']]"
   ]
  },
  {
   "cell_type": "code",
   "execution_count": null,
   "id": "294e4946-915f-4761-afc7-45e1e4eda63c",
   "metadata": {},
   "outputs": [],
   "source": [
    "h3_df=h3_df.h3.h3_to_geo_boundary() #NOT going to benchmark these yet. But this should remain the same, as cell count remains static this whole cell should take roughly 10s"
   ]
  },
  {
   "cell_type": "code",
   "execution_count": null,
   "id": "00eca3ce-9f68-402d-90b4-67e28b898146",
   "metadata": {},
   "outputs": [],
   "source": [
    "h3_df=h3_df.dissolve(by='class').reset_index().to_crs(2193)  #Technically this is traditional method, do we even include this? I think not."
   ]
  },
  {
   "cell_type": "markdown",
   "id": "6ccebb4c-ed31-4c92-ab81-4a1c7e6e93f5",
   "metadata": {},
   "source": [
    "Writing Geopackage output"
   ]
  },
  {
   "cell_type": "code",
   "execution_count": null,
   "id": "fb1a53e5-464a-4a10-bfa4-982615935ec8",
   "metadata": {},
   "outputs": [],
   "source": [
    "output_dir.mkdir(parents=True, exist_ok=True)\n",
    "output = (output_dir / f'DGGS_{num_files_to_open}_layers.gpkg')\n",
    "# output.touch(exist_ok=True)\n",
    "h3_df.to_file(output, layer='benchmarking', driver='GPKG', mode='w')"
   ]
  },
  {
   "cell_type": "code",
   "execution_count": null,
   "id": "bd97b38e-6a23-47d2-82c9-d003d3ccd698",
   "metadata": {},
   "outputs": [],
   "source": [
    "h3_df.plot('class', cmap='viridis')"
   ]
  }
 ],
 "metadata": {
  "kernelspec": {
   "display_name": "Python 3 (ipykernel)",
   "language": "python",
   "name": "python3"
  },
  "language_info": {
   "codemirror_mode": {
    "name": "ipython",
    "version": 3
   },
   "file_extension": ".py",
   "mimetype": "text/x-python",
   "name": "python",
   "nbconvert_exporter": "python",
   "pygments_lexer": "ipython3",
   "version": "3.11.6"
  }
 },
 "nbformat": 4,
 "nbformat_minor": 5
}
