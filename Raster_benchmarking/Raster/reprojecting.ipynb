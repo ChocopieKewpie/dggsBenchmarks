{
 "cells": [
  {
   "cell_type": "code",
   "execution_count": 1,
   "metadata": {},
   "outputs": [],
   "source": [
    "import rasterio\n",
    "from rasterio.enums import Resampling\n",
    "from pathlib import Path\n",
    "import numpy as np\n",
    "from rasterio.crs import CRS"
   ]
  },
  {
   "cell_type": "code",
   "execution_count": 2,
   "metadata": {},
   "outputs": [],
   "source": [
    "input_dir = Path('discrete')\n",
    "r_files = list(sorted(input_dir.glob('*.asc')))\n",
    "\n",
    "# Generate band names automatically\n",
    "num_bands = len(r_files)\n",
    "band_names = [f\"discrete_{i+1:03d}\" for i in range(num_bands)]"
   ]
  },
  {
   "cell_type": "code",
   "execution_count": 3,
   "metadata": {},
   "outputs": [
    {
     "name": "stdout",
     "output_type": "stream",
     "text": [
      "CPU times: total: 1.53 s\n",
      "Wall time: 1.9 s\n"
     ]
    }
   ],
   "source": [
    "%%time\n",
    "# Open all raster files\n",
    "srcs = [rasterio.open(file) for file in r_files]\n",
    "\n",
    "# We will use the metadata of the first raster and adjust it for multiple bands\n",
    "out_meta = srcs[0].meta.copy()\n",
    "\n",
    "# Ensure the driver is set to 'GTiff' to support multiple bands\n",
    "out_meta.update({\n",
    "    'driver': 'GTiff',\n",
    "    'count': len(srcs),  # number of bands\n",
    "    'dtype': 'float32'  # update dtype if necessary\n",
    "})\n",
    "\n",
    "# Create the output raster\n",
    "output_raster_path = 'discrete.tif'\n",
    "with rasterio.open(output_raster_path, 'w', **out_meta) as dst:\n",
    "    for idx, src in enumerate(srcs, start=1):\n",
    "        dst.crs=CRS.from_epsg(2193)\n",
    "        band_data = src.read(1)  # Reading the first band\n",
    "        dst.write(band_data, idx)  # Writing data to respective band\n",
    "\n",
    "        # Set description for each band\n",
    "        dst.set_band_description(idx, band_names[idx - 1])"
   ]
  },
  {
   "cell_type": "code",
   "execution_count": 4,
   "metadata": {},
   "outputs": [],
   "source": [
    "input_dir = Path('continuous')\n",
    "r_files = list(sorted(input_dir.glob('*.asc')))\n",
    "# Generate band names automatically\n",
    "num_bands = len(r_files)\n",
    "band_names = [f\"continuous_{i+1:03d}\" for i in range(num_bands)]"
   ]
  },
  {
   "cell_type": "code",
   "execution_count": 5,
   "metadata": {},
   "outputs": [
    {
     "name": "stdout",
     "output_type": "stream",
     "text": [
      "CPU times: total: 7.58 s\n",
      "Wall time: 7.98 s\n"
     ]
    }
   ],
   "source": [
    "%%time\n",
    "# Open all raster files\n",
    "srcs = [rasterio.open(file) for file in r_files]\n",
    "\n",
    "# We will use the metadata of the first raster and adjust it for multiple bands\n",
    "out_meta = srcs[0].meta.copy()\n",
    "\n",
    "# Ensure the driver is set to 'GTiff' and update for multiple bands\n",
    "out_meta.update({\n",
    "    'driver': 'GTiff',\n",
    "    'count': len(srcs),\n",
    "    'dtype': 'int16'  # Using uint8 as we are classifying into 10 classes\n",
    "})\n",
    "\n",
    "# Create the output raster\n",
    "output_raster_path = 'classified_continuous.tif'\n",
    "with rasterio.open(output_raster_path, 'w', **out_meta) as dst:\n",
    "    for idx, src in enumerate(srcs, start=1):\n",
    "        dst.crs=CRS.from_epsg(2193)\n",
    "        # Read data from each source\n",
    "        data = src.read(1)\n",
    "\n",
    "        # Calculate quantiles from 10% to 100% at 10% intervals\n",
    "        quantiles = np.percentile(data[data != src.nodata], np.arange(10, 101, 10))\n",
    "\n",
    "        # Classify data based on quantiles\n",
    "        classified_data = np.searchsorted(quantiles, data, side='right') \n",
    "\n",
    "        # Handle nodata values\n",
    "        classified_data[data == src.nodata] = -9999  # Assuming 0 is nodata for output\n",
    "\n",
    "        # Write classified data to the respective band in the destination raster\n",
    "        dst.write(classified_data.astype('uint8'), idx)\n",
    "\n",
    "        # Set description for each band\n",
    "        dst.set_band_description(idx, band_names[idx - 1])"
   ]
  },
  {
   "cell_type": "code",
   "execution_count": null,
   "metadata": {},
   "outputs": [],
   "source": []
  }
 ],
 "metadata": {
  "kernelspec": {
   "display_name": "Python 3 (ipykernel)",
   "language": "python",
   "name": "python3"
  },
  "language_info": {
   "codemirror_mode": {
    "name": "ipython",
    "version": 3
   },
   "file_extension": ".py",
   "mimetype": "text/x-python",
   "name": "python",
   "nbconvert_exporter": "python",
   "pygments_lexer": "ipython3",
   "version": "3.11.6"
  }
 },
 "nbformat": 4,
 "nbformat_minor": 4
}
