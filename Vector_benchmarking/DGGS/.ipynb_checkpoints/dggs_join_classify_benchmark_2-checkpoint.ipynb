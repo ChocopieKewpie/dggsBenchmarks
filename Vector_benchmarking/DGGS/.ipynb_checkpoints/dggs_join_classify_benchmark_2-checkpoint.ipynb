{
 "cells": [
  {
   "cell_type": "code",
   "execution_count": 1,
   "id": "56525c39-20ce-44a7-a639-535f48332b4b",
   "metadata": {},
   "outputs": [],
   "source": [
    "from functools import partial\n",
    "from math import sqrt\n",
    "from pathlib import Path\n",
    "import geopandas as gpd\n",
    "import h3pandas\n",
    "from itertools import product\n",
    "import time\n",
    "import timeit\n",
    "import csv"
   ]
  },
  {
   "cell_type": "code",
   "execution_count": 2,
   "id": "e44cba71-8263-485c-863f-e2ec5f7615b3",
   "metadata": {},
   "outputs": [],
   "source": [
    "input_dir = Path('vector_1000')\n",
    "output_dir = Path.cwd()\n",
    "\n",
    "# Get a list of all GPKG files in the folder\n",
    "v_files = list(sorted(input_dir.glob('*.gpkg')))"
   ]
  },
  {
   "cell_type": "code",
   "execution_count": 3,
   "id": "d70aba6d-d56d-4c4f-a0d3-840de1a372d3",
   "metadata": {},
   "outputs": [],
   "source": [
    "# Specify the number of files to open\n",
    "num_files_to_open = 2  #Layers to join\n",
    "h3_res=14   #Setting h3 resolution\n",
    "bench_runs=30  #Benchmark runs, should probably do 30 "
   ]
  },
  {
   "cell_type": "code",
   "execution_count": 4,
   "id": "84362c3a-7b10-4053-bc3a-0ed5e5b7c03e",
   "metadata": {},
   "outputs": [],
   "source": [
    "# Loop through each GPKG file, index and join\n",
    "for i, file in enumerate(v_files[:num_files_to_open]):\n",
    "        col_name = file.stem.split('_')[1]  # Extracting the column name from the file name\n",
    "        df = gpd.read_file(file).to_crs(4326)\n",
    "        df = df.h3.polyfill(h3_res, explode=True).drop(columns=['geometry'])\n",
    "        df.columns = [col_name, *df.columns[1:]]  # Setting the column to the file\n",
    "        df = df.set_index('h3_polyfill')\n",
    "        if i == 0:\n",
    "            combined_df = df.copy()\n",
    "        else:\n",
    "            combined_df = combined_df.join(df)"
   ]
  },
  {
   "cell_type": "markdown",
   "id": "3d87714c-6e42-4fbd-a1ec-83a375f3ffc5",
   "metadata": {},
   "source": [
    "Benchmarking for joining"
   ]
  },
  {
   "cell_type": "code",
   "execution_count": 5,
   "id": "62ceddda-b76a-4419-8013-541e1cbdf6ca",
   "metadata": {},
   "outputs": [],
   "source": [
    "indexing_time= []\n",
    "joining_time = []\n",
    "\n",
    "def run_loop(num_files_to_open, v_files, h3_res):\n",
    "    index_time= []\n",
    "    join_time= []\n",
    "\n",
    "    start_time = time.time()\n",
    "    for i, file in enumerate(v_files[:num_files_to_open]):\n",
    "        \n",
    "        col_name = file.stem.split('_')[1]  # Extracting the column name from the file name\n",
    "        df = gpd.read_file(file).to_crs(4326)\n",
    "\n",
    "        #Indexing benchmark\n",
    "        index_Stime=time.time()\n",
    "        df = df.h3.polyfill(h3_res, explode=True).drop(columns=['geometry'])\n",
    "        index_Etime=time.time()\n",
    "        index_Ftime = index_Etime - index_Stime\n",
    "        index_time.append(index_Ftime)\n",
    "\n",
    "        #Joining benchmark\n",
    "        join_Stime=time.time()\n",
    "        df.columns = [col_name, *df.columns[1:]]  # Setting the column to the file\n",
    "        df = df.set_index('h3_polyfill')\n",
    "        if i == 0:\n",
    "            combined_df = df.copy()\n",
    "        else:\n",
    "            combined_df = combined_df.join(df)\n",
    "        join_Etime=time.time()\n",
    "        join_Ftime = join_Etime - join_Stime\n",
    "        join_time.append(join_Ftime)\n",
    "\n",
    "    # Calculate and print the time taken for each run\n",
    "    end_time = time.time()\n",
    "    time_taken = end_time - start_time\n",
    "    \n",
    "    indexing_time.append(sum(index_time))\n",
    "    joining_time.append(sum(join_time))\n",
    "    print(f'Run: index time - {sum(index_time)} , joining time - {sum(join_time)} seconds, Total time- {time_taken} seconds')"
   ]
  },
  {
   "cell_type": "code",
   "execution_count": 6,
   "id": "986d5b86-1e5d-4ae4-b0fa-fafd47a80ee6",
   "metadata": {},
   "outputs": [
    {
     "name": "stdout",
     "output_type": "stream",
     "text": [
      "Run: index time - 0.5679895877838135 , joining time - 0.06353235244750977 seconds, Total time- 0.6600902080535889 seconds\n",
      "Run: index time - 0.5539288520812988 , joining time - 0.06429767608642578 seconds, Total time- 0.6407461166381836 seconds\n",
      "Run: index time - 0.5847799777984619 , joining time - 0.07134771347045898 seconds, Total time- 0.6810917854309082 seconds\n",
      "Run: index time - 0.6673462390899658 , joining time - 0.12244343757629395 seconds, Total time- 0.8124852180480957 seconds\n",
      "Run: index time - 0.7339503765106201 , joining time - 0.12044835090637207 seconds, Total time- 0.8848011493682861 seconds\n",
      "Run: index time - 0.7390246391296387 , joining time - 0.11064267158508301 seconds, Total time- 0.8817458152770996 seconds\n",
      "Run: index time - 0.7908780574798584 , joining time - 0.12148118019104004 seconds, Total time- 0.9424867630004883 seconds\n",
      "Run: index time - 0.763322114944458 , joining time - 0.10170602798461914 seconds, Total time- 0.8950331211090088 seconds\n",
      "Run: index time - 0.7934541702270508 , joining time - 0.11272072792053223 seconds, Total time- 0.9324796199798584 seconds\n",
      "Run: index time - 0.780778169631958 , joining time - 0.15546464920043945 seconds, Total time- 0.9674630165100098 seconds\n",
      "Run: index time - 0.8190402984619141 , joining time - 0.1023712158203125 seconds, Total time- 0.9526584148406982 seconds\n",
      "Run: index time - 0.7768828868865967 , joining time - 0.10715341567993164 seconds, Total time- 0.9130697250366211 seconds\n",
      "Run: index time - 0.8340399265289307 , joining time - 0.10286188125610352 seconds, Total time- 0.968219518661499 seconds\n",
      "Run: index time - 0.8609631061553955 , joining time - 0.1102755069732666 seconds, Total time- 1.004023551940918 seconds\n",
      "Run: index time - 0.7668941020965576 , joining time - 0.10397791862487793 seconds, Total time- 0.8915505409240723 seconds\n",
      "Run: index time - 0.8016314506530762 , joining time - 0.11290597915649414 seconds, Total time- 0.9429819583892822 seconds\n",
      "Run: index time - 0.8724339008331299 , joining time - 0.11357283592224121 seconds, Total time- 1.0148372650146484 seconds\n",
      "Run: index time - 0.8291449546813965 , joining time - 0.10210919380187988 seconds, Total time- 0.9617705345153809 seconds\n",
      "Run: index time - 0.7013115882873535 , joining time - 0.09681510925292969 seconds, Total time- 0.8351349830627441 seconds\n",
      "Run: index time - 0.7768802642822266 , joining time - 0.11108851432800293 seconds, Total time- 0.9125797748565674 seconds\n",
      "Run: index time - 0.8054332733154297 , joining time - 0.11255598068237305 seconds, Total time- 0.9417505264282227 seconds\n",
      "Run: index time - 0.8387918472290039 , joining time - 0.12999749183654785 seconds, Total time- 0.9915769100189209 seconds\n",
      "Run: index time - 0.8783574104309082 , joining time - 0.13243412971496582 seconds, Total time- 1.0438430309295654 seconds\n",
      "Run: index time - 0.7657606601715088 , joining time - 0.08481454849243164 seconds, Total time- 0.8913533687591553 seconds\n",
      "Run: index time - 0.7754497528076172 , joining time - 0.0822916030883789 seconds, Total time- 0.8934381008148193 seconds\n",
      "Run: index time - 0.839313268661499 , joining time - 0.11822676658630371 seconds, Total time- 0.9863295555114746 seconds\n",
      "Run: index time - 0.654815673828125 , joining time - 0.08566641807556152 seconds, Total time- 0.7694745063781738 seconds\n",
      "Run: index time - 0.6628084182739258 , joining time - 0.11226701736450195 seconds, Total time- 0.8063421249389648 seconds\n",
      "Run: index time - 0.8239254951477051 , joining time - 0.1097412109375 seconds, Total time- 0.9620888233184814 seconds\n",
      "Run: index time - 0.8133533000946045 , joining time - 0.10335302352905273 seconds, Total time- 0.9471502304077148 seconds\n"
     ]
    },
    {
     "data": {
      "text/plain": [
       "27.28289739997126"
      ]
     },
     "execution_count": 6,
     "metadata": {},
     "output_type": "execute_result"
    }
   ],
   "source": [
    "timeit.timeit(lambda: run_loop(num_files_to_open, v_files, h3_res), number=bench_runs) #Benchmark run for joining"
   ]
  },
  {
   "cell_type": "markdown",
   "id": "5dc4011c-b87f-4731-890f-aaab9943bb35",
   "metadata": {},
   "source": [
    "Defining classes"
   ]
  },
  {
   "cell_type": "code",
   "execution_count": 7,
   "id": "d54cd7f1-cd26-4c62-a018-fb3180466155",
   "metadata": {},
   "outputs": [],
   "source": [
    "def is_prime(n):\n",
    "    count = 0\n",
    "    if n > 1:\n",
    "        for i in range(1, n + 1):\n",
    "            if n % i == 0:\n",
    "                count += 1\n",
    "    return count == 2\n",
    "\n",
    "def is_polygonal(s, x):\n",
    "    assert s > 2 and s % 1 == 0 and x % 1 == 0\n",
    "    n = (sqrt(8 * (s - 2) * x + (s - 4) ** 2) + (s - 4)) / (2 * (s - 2))\n",
    "    return n % 1 == 0\n",
    "\n",
    "def is_fibonacci(n):\n",
    "    a, b = 0,1\n",
    "    while a < n:\n",
    "        a, b = b, a + b\n",
    "    return a == n\n",
    "\n",
    "def is_perfect(n):\n",
    "    sum = 1\n",
    "    i = 2\n",
    "    while i * i <= n:\n",
    "        if n % i == 0:\n",
    "            sum = sum + i + n/i\n",
    "        i += 1\n",
    "    return sum == n and n != 1"
   ]
  },
  {
   "cell_type": "code",
   "execution_count": 8,
   "id": "69895183-7ad3-4153-8577-dcfe87930f0a",
   "metadata": {},
   "outputs": [],
   "source": [
    "combined_df['sum'] = combined_df.select_dtypes(include='number').sum(axis=1)\n",
    "classes = [\n",
    "    ('is_prime', is_prime),\n",
    "    ('is_triangular', partial(is_polygonal, 3)),\n",
    "    ('is_rectangular', partial(is_polygonal, 4)),\n",
    "    ('is_pentagonal', partial(is_polygonal, 5)),\n",
    "    ('is_hexagonal', partial(is_polygonal, 6)),\n",
    "    ('is_fibonacci', is_fibonacci),\n",
    "    ('is_perfect', is_perfect),\n",
    "]\n",
    "for i, func in enumerate(classes):\n",
    "    combined_df[func[0]] = combined_df['sum'].apply(func[1])"
   ]
  },
  {
   "cell_type": "code",
   "execution_count": 9,
   "id": "c8680f9e-2947-4943-9800-83096693168a",
   "metadata": {},
   "outputs": [],
   "source": [
    "numerics = list(combined_df.select_dtypes(include='number'))\n",
    "combined_df = combined_df.drop(columns=numerics)"
   ]
  },
  {
   "cell_type": "code",
   "execution_count": 10,
   "id": "19d694e4-ca2c-4228-b5a6-2abec704c85b",
   "metadata": {},
   "outputs": [],
   "source": [
    "combinations = list(product([True, False], repeat=7))\n",
    "class_mapping = {tuple(row): f'Class_{i+1:03}' for i, row in enumerate(combinations)}"
   ]
  },
  {
   "cell_type": "markdown",
   "id": "e8b75a20-742e-4f5d-b686-435209920150",
   "metadata": {},
   "source": [
    "Benchmarking Classification"
   ]
  },
  {
   "cell_type": "code",
   "execution_count": 11,
   "id": "d955488e-b03e-4c6f-bc32-9ac5a1de3645",
   "metadata": {},
   "outputs": [],
   "source": [
    "classify_time=[]\n",
    "def classify_loop():\n",
    "    \n",
    "    start_time = time.time()\n",
    "\n",
    "    bench_class = combined_df.apply(lambda row: class_mapping[tuple(row.astype(int))], axis=1) #This should remain the same, as cell count remains static   \n",
    "\n",
    "    end_time = time.time()\n",
    "    \n",
    "    # Calculate and print the time taken for each run\n",
    "    time_taken = end_time - start_time\n",
    "    classify_time.append(time_taken)\n",
    "    print(f'Run: Time taken - {time_taken} seconds')"
   ]
  },
  {
   "cell_type": "code",
   "execution_count": null,
   "id": "b2ed3d33-ccfc-4cb7-bf29-b2fe0995105d",
   "metadata": {},
   "outputs": [
    {
     "name": "stdout",
     "output_type": "stream",
     "text": [
      "Run: Time taken - 7.766390323638916 seconds\n",
      "Run: Time taken - 8.018817663192749 seconds\n",
      "Run: Time taken - 8.353869199752808 seconds\n",
      "Run: Time taken - 8.14209771156311 seconds\n",
      "Run: Time taken - 7.976290702819824 seconds\n",
      "Run: Time taken - 7.862644195556641 seconds\n",
      "Run: Time taken - 7.609578371047974 seconds\n",
      "Run: Time taken - 7.1752989292144775 seconds\n",
      "Run: Time taken - 7.015469551086426 seconds\n",
      "Run: Time taken - 7.207256317138672 seconds\n",
      "Run: Time taken - 7.361089468002319 seconds\n",
      "Run: Time taken - 6.5390918254852295 seconds\n",
      "Run: Time taken - 6.434775352478027 seconds\n",
      "Run: Time taken - 6.001894235610962 seconds\n",
      "Run: Time taken - 5.7795090675354 seconds\n",
      "Run: Time taken - 5.759830474853516 seconds\n",
      "Run: Time taken - 5.897729396820068 seconds\n",
      "Run: Time taken - 5.671546697616577 seconds\n",
      "Run: Time taken - 5.760833263397217 seconds\n",
      "Run: Time taken - 5.684429168701172 seconds\n",
      "Run: Time taken - 5.826375722885132 seconds\n",
      "Run: Time taken - 5.5595293045043945 seconds\n",
      "Run: Time taken - 5.745591640472412 seconds\n",
      "Run: Time taken - 6.352838039398193 seconds\n",
      "Run: Time taken - 5.942759037017822 seconds\n",
      "Run: Time taken - 5.717104434967041 seconds\n",
      "Run: Time taken - 5.842856407165527 seconds\n",
      "Run: Time taken - 5.870246887207031 seconds\n"
     ]
    }
   ],
   "source": [
    "timeit.timeit(lambda: classify_loop(), number=bench_runs) #Benchmark run for classifying"
   ]
  },
  {
   "cell_type": "markdown",
   "id": "1d99599d-b346-4b63-81b3-06586484416e",
   "metadata": {},
   "source": [
    "Writing benchmark results"
   ]
  },
  {
   "cell_type": "code",
   "execution_count": null,
   "id": "481ccbcc-be4b-4455-b7bf-af8f8b504dea",
   "metadata": {},
   "outputs": [],
   "source": [
    "with open(f'DGGS_benchmark_{num_files_to_open}_layers.csv', 'w', newline='') as csvfile: #Writing benchmark results\n",
    "    writer = csv.writer(csvfile)\n",
    "    writer.writerow(['Run', 'Indexing(s)', 'Joining(s)','Classify(s)'])\n",
    "    for i, (index_taken, join_taken, classify_taken) in enumerate(zip(indexing_time,joining_time, classify_time)):\n",
    "        writer.writerow([i+1, index_taken, join_taken, classify_taken])"
   ]
  },
  {
   "cell_type": "markdown",
   "id": "cf07ebd8-82a7-4525-9a74-08809708486c",
   "metadata": {},
   "source": [
    "Applying classification"
   ]
  },
  {
   "cell_type": "code",
   "execution_count": null,
   "id": "9d9b39dd-2eff-46c4-bab5-79657963aeb4",
   "metadata": {},
   "outputs": [],
   "source": [
    "combined_df['class'] = combined_df.apply(lambda row: class_mapping[tuple(row.astype(int))], axis=1) #This should remain the same, as cell count remains static"
   ]
  },
  {
   "cell_type": "code",
   "execution_count": null,
   "id": "c2713834-c66d-4111-a1e7-39c8d99f8cf7",
   "metadata": {},
   "outputs": [],
   "source": [
    "h3_df=combined_df[['class']]"
   ]
  },
  {
   "cell_type": "code",
   "execution_count": null,
   "id": "294e4946-915f-4761-afc7-45e1e4eda63c",
   "metadata": {},
   "outputs": [],
   "source": [
    "h3_df=h3_df.h3.h3_to_geo_boundary() #NOT going to benchmark these yet. But this should remain the same, as cell count remains static this whole cell should take roughly 10s"
   ]
  },
  {
   "cell_type": "code",
   "execution_count": null,
   "id": "00eca3ce-9f68-402d-90b4-67e28b898146",
   "metadata": {},
   "outputs": [],
   "source": [
    "h3_df=h3_df.dissolve(by='class').reset_index().to_crs(2193)  #Technically this is traditional method, do we even include this? I think not."
   ]
  },
  {
   "cell_type": "markdown",
   "id": "6ccebb4c-ed31-4c92-ab81-4a1c7e6e93f5",
   "metadata": {},
   "source": [
    "Writing Geopackage output"
   ]
  },
  {
   "cell_type": "code",
   "execution_count": null,
   "id": "fb1a53e5-464a-4a10-bfa4-982615935ec8",
   "metadata": {},
   "outputs": [],
   "source": [
    "output_dir.mkdir(parents=True, exist_ok=True)\n",
    "output = (output_dir / f'DGGS_{num_files_to_open}_layers.gpkg')\n",
    "# output.touch(exist_ok=True)\n",
    "h3_df.to_file(output, layer='benchmarking', driver='GPKG', mode='w')"
   ]
  },
  {
   "cell_type": "code",
   "execution_count": null,
   "id": "bd97b38e-6a23-47d2-82c9-d003d3ccd698",
   "metadata": {},
   "outputs": [],
   "source": [
    "h3_df.plot('class', cmap='viridis')"
   ]
  }
 ],
 "metadata": {
  "kernelspec": {
   "display_name": "Python 3 (ipykernel)",
   "language": "python",
   "name": "python3"
  },
  "language_info": {
   "codemirror_mode": {
    "name": "ipython",
    "version": 3
   },
   "file_extension": ".py",
   "mimetype": "text/x-python",
   "name": "python",
   "nbconvert_exporter": "python",
   "pygments_lexer": "ipython3",
   "version": "3.11.6"
  }
 },
 "nbformat": 4,
 "nbformat_minor": 5
}
