{
 "cells": [
  {
   "cell_type": "code",
   "execution_count": 1,
   "id": "4669a2a2-2a8c-4df1-8750-d501abfb38ef",
   "metadata": {},
   "outputs": [],
   "source": [
    "import rasterio\n",
    "import geopandas as gpd\n",
    "from shapely.geometry import Point\n",
    "import h3pandas\n",
    "from pathlib import Path\n",
    "import numpy as np\n",
    "import pandas as pd"
   ]
  },
  {
   "cell_type": "code",
   "execution_count": 2,
   "id": "961e32ee-69d6-4d05-bab3-a2ad60335c27",
   "metadata": {},
   "outputs": [],
   "source": [
    "output_dir = Path('combined_h3')"
   ]
  },
  {
   "cell_type": "code",
   "execution_count": 3,
   "id": "3d2d408d-2eeb-4469-aa5d-15349643ed06",
   "metadata": {},
   "outputs": [
    {
     "name": "stdout",
     "output_type": "stream",
     "text": [
      "CPU times: total: 36.7 s\n",
      "Wall time: 1min 56s\n"
     ]
    }
   ],
   "source": [
    "%%time\n",
    "input_dir = Path('discrete')\n",
    "r_files = list(sorted(input_dir.glob('*.asc')))\n",
    "for file in r_files:\n",
    "    with rasterio.open(file) as src:\n",
    "        array = src.read(1)\n",
    "        transform = src.transform\n",
    "    rows, cols = array.shape\n",
    "    xs, ys = np.indices((cols, rows))  \n",
    "    xs_flat = xs.flatten()\n",
    "    ys_flat = ys.flatten()\n",
    "    values_flat = array.flatten()\n",
    "    coords = rasterio.transform.xy(transform, xs_flat, ys_flat)\n",
    "    points = list(zip(coords[0], coords[1], values_flat))\n",
    "    geometry = [Point(x, y) for x, y, _ in points]\n",
    "    df = gpd.GeoDataFrame(points, columns=['X', 'Y', 'Value'], geometry=geometry)\n",
    "    df=df.drop(columns=['X','Y']).set_crs(2193)\n",
    "    df['Value']=pd.to_numeric(df['Value'], downcast='integer')\n",
    "    df=df.to_crs(4326)\n",
    "    h3=df.h3.geo_to_h3_aggregate(12, operation='max')\n",
    "    h3.to_parquet(f'{(output_dir)}/discrete_{(file.stem)}.parquet')"
   ]
  },
  {
   "cell_type": "code",
   "execution_count": 4,
   "id": "0ba3e000-070b-4c5e-a98b-1d73f5e6d963",
   "metadata": {},
   "outputs": [
    {
     "name": "stdout",
     "output_type": "stream",
     "text": [
      "CPU times: total: 31.3 s\n",
      "Wall time: 1min 46s\n"
     ]
    }
   ],
   "source": [
    "%%time\n",
    "input_dir = Path('continuous')\n",
    "r_files = list(sorted(input_dir.glob('*.asc')))\n",
    "for file in r_files:\n",
    "    with rasterio.open(file) as src:\n",
    "        array = src.read(1)\n",
    "        transform = src.transform\n",
    "    rows, cols = array.shape\n",
    "    xs, ys = np.indices((cols, rows))  \n",
    "    xs_flat = xs.flatten()\n",
    "    ys_flat = ys.flatten()\n",
    "    values_flat = array.flatten()\n",
    "    coords = rasterio.transform.xy(transform, xs_flat, ys_flat)\n",
    "    points = list(zip(coords[0], coords[1], values_flat))\n",
    "    geometry = [Point(x, y) for x, y, _ in points]\n",
    "    df = gpd.GeoDataFrame(points, columns=['X', 'Y', 'Value'], geometry=geometry)\n",
    "    df=df.drop(columns=['X','Y']).set_crs(2193)\n",
    "    df=df.to_crs(4326)\n",
    "    h3=df.h3.geo_to_h3_aggregate(12, operation='mean')\n",
    "    h3.to_parquet(f'{(output_dir)}/continuous_{(file.stem)}.parquet')"
   ]
  }
 ],
 "metadata": {
  "kernelspec": {
   "display_name": "Python 3 (ipykernel)",
   "language": "python",
   "name": "python3"
  },
  "language_info": {
   "codemirror_mode": {
    "name": "ipython",
    "version": 3
   },
   "file_extension": ".py",
   "mimetype": "text/x-python",
   "name": "python",
   "nbconvert_exporter": "python",
   "pygments_lexer": "ipython3",
   "version": "3.11.7"
  }
 },
 "nbformat": 4,
 "nbformat_minor": 5
}
